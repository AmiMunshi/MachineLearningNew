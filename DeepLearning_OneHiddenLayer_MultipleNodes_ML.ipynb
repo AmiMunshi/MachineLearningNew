{
  "cells": [
    {
      "cell_type": "markdown",
      "metadata": {
        "id": "view-in-github",
        "colab_type": "text"
      },
      "source": [
        "<a href=\"https://colab.research.google.com/github/AmiMunshi/MachineLearningNew/blob/main/DeepLearning_OneHiddenLayer_MultipleNodes_ML.ipynb\" target=\"_parent\"><img src=\"https://colab.research.google.com/assets/colab-badge.svg\" alt=\"Open In Colab\"/></a>"
      ]
    },
    {
      "cell_type": "markdown",
      "id": "cb42a86d",
      "metadata": {
        "id": "cb42a86d"
      },
      "source": [
        "<h2>Import the relevant packages needed for impelementation"
      ]
    },
    {
      "cell_type": "code",
      "execution_count": null,
      "id": "e35b6d78",
      "metadata": {
        "id": "e35b6d78"
      },
      "outputs": [],
      "source": [
        "#Import the necessary packages\n",
        "import numpy as np\n",
        "import pandas as pd\n",
        "import random\n",
        "import matplotlib.pyplot as plt\n",
        "import seaborn as sns\n",
        "from sklearn.linear_model import LogisticRegression\n",
        "from sklearn.model_selection import train_test_split\n",
        "from sklearn.metrics import confusion_matrix, accuracy_score, roc_curve,roc_auc_score\n",
        "%matplotlib inline\n",
        "import warnings #to remove the warnings\n",
        "warnings.filterwarnings('ignore')\n",
        "from sklearn.model_selection import train_test_split"
      ]
    },
    {
      "cell_type": "markdown",
      "id": "dd01b048",
      "metadata": {
        "id": "dd01b048"
      },
      "source": [
        "<h2>Q1. To load the dataset, ascertain shape of the X (Predictor)variable and Y (Target variable)"
      ]
    },
    {
      "cell_type": "code",
      "execution_count": null,
      "id": "fbe0eea5",
      "metadata": {
        "id": "fbe0eea5"
      },
      "outputs": [],
      "source": [
        "#Read the train dataset\n",
        "df= pd.read_csv('C:/Users/mpstme.student/Documents/70282200011_ML/Tee2.csv')"
      ]
    },
    {
      "cell_type": "code",
      "execution_count": null,
      "id": "a5bbff21",
      "metadata": {
        "id": "a5bbff21",
        "outputId": "71fa4e1e-7a15-4689-b879-34a9cbf5676b"
      },
      "outputs": [
        {
          "data": {
            "text/html": [
              "<div>\n",
              "<style scoped>\n",
              "    .dataframe tbody tr th:only-of-type {\n",
              "        vertical-align: middle;\n",
              "    }\n",
              "\n",
              "    .dataframe tbody tr th {\n",
              "        vertical-align: top;\n",
              "    }\n",
              "\n",
              "    .dataframe thead th {\n",
              "        text-align: right;\n",
              "    }\n",
              "</style>\n",
              "<table border=\"1\" class=\"dataframe\">\n",
              "  <thead>\n",
              "    <tr style=\"text-align: right;\">\n",
              "      <th></th>\n",
              "      <th>X1</th>\n",
              "      <th>X2</th>\n",
              "      <th>Y</th>\n",
              "    </tr>\n",
              "  </thead>\n",
              "  <tbody>\n",
              "    <tr>\n",
              "      <th>0</th>\n",
              "      <td>-0.364192</td>\n",
              "      <td>-0.249755</td>\n",
              "      <td>0</td>\n",
              "    </tr>\n",
              "    <tr>\n",
              "      <th>1</th>\n",
              "      <td>-0.069578</td>\n",
              "      <td>-0.378600</td>\n",
              "      <td>0</td>\n",
              "    </tr>\n",
              "    <tr>\n",
              "      <th>2</th>\n",
              "      <td>0.406800</td>\n",
              "      <td>-0.318816</td>\n",
              "      <td>0</td>\n",
              "    </tr>\n",
              "    <tr>\n",
              "      <th>3</th>\n",
              "      <td>-1.953366</td>\n",
              "      <td>-0.284564</td>\n",
              "      <td>1</td>\n",
              "    </tr>\n",
              "    <tr>\n",
              "      <th>4</th>\n",
              "      <td>0.368430</td>\n",
              "      <td>-0.957329</td>\n",
              "      <td>1</td>\n",
              "    </tr>\n",
              "  </tbody>\n",
              "</table>\n",
              "</div>"
            ],
            "text/plain": [
              "         X1        X2  Y\n",
              "0 -0.364192 -0.249755  0\n",
              "1 -0.069578 -0.378600  0\n",
              "2  0.406800 -0.318816  0\n",
              "3 -1.953366 -0.284564  1\n",
              "4  0.368430 -0.957329  1"
            ]
          },
          "execution_count": 180,
          "metadata": {},
          "output_type": "execute_result"
        }
      ],
      "source": [
        "#Visualize the dataframe\n",
        "df.head()"
      ]
    },
    {
      "cell_type": "code",
      "execution_count": null,
      "id": "209dcded",
      "metadata": {
        "id": "209dcded",
        "outputId": "ecb8d3be-8014-40a9-ccc7-538a015878e5"
      },
      "outputs": [
        {
          "data": {
            "text/plain": [
              "(200, 3)"
            ]
          },
          "execution_count": 181,
          "metadata": {},
          "output_type": "execute_result"
        }
      ],
      "source": [
        "#to know the size of the data set\n",
        "df.shape"
      ]
    },
    {
      "cell_type": "code",
      "execution_count": null,
      "id": "3b883f33",
      "metadata": {
        "id": "3b883f33",
        "outputId": "301577d2-edda-4a85-e15d-a94184d8c3df"
      },
      "outputs": [
        {
          "data": {
            "text/plain": [
              "(200, 2)"
            ]
          },
          "execution_count": 182,
          "metadata": {},
          "output_type": "execute_result"
        }
      ],
      "source": [
        "#Extract the independent or predictor variables\n",
        "X= df.drop(['Y'],axis=1)\n",
        "\n",
        "#Ascertain the shape of the data set\n",
        "X.shape\n",
        "\n"
      ]
    },
    {
      "cell_type": "code",
      "execution_count": null,
      "id": "be715978",
      "metadata": {
        "id": "be715978",
        "outputId": "cecf7fc3-cfb9-4229-a79f-76591819ac9b"
      },
      "outputs": [
        {
          "data": {
            "text/plain": [
              "(200, 1)"
            ]
          },
          "execution_count": 183,
          "metadata": {},
          "output_type": "execute_result"
        }
      ],
      "source": [
        "#Extract the target variables\n",
        "y=df[['Y']]\n",
        "\n",
        "#Ascertain the shape of the data set\n",
        "y.shape"
      ]
    },
    {
      "cell_type": "markdown",
      "id": "33b417dd",
      "metadata": {
        "id": "33b417dd"
      },
      "source": [
        "<h2> Q2. Plot the data to see the pattern"
      ]
    },
    {
      "cell_type": "code",
      "execution_count": null,
      "id": "0f98360b",
      "metadata": {
        "id": "0f98360b",
        "outputId": "37d6c562-38e6-411b-89e3-4f951ff46097"
      },
      "outputs": [
        {
          "data": {
            "text/plain": [
              "Text(0.5, 1.0, 'Scatter plot of the dataset')"
            ]
          },
          "execution_count": 184,
          "metadata": {},
          "output_type": "execute_result"
        },
        {
          "data": {
            "image/png": "[encoded data removed]",
            "text/plain": [
              "<Figure size 432x288 with 1 Axes>"
            ]
          },
          "metadata": {
            "needs_background": "light"
          },
          "output_type": "display_data"
        }
      ],
      "source": [
        "#To visualize the dataset\n",
        "plt.scatter(df.X1,df.X2,c=df.Y)\n",
        "plt.xlabel(\"X\")\n",
        "plt.ylabel(\"Y\")\n",
        "plt.title(\"Scatter plot of the dataset\")"
      ]
    },
    {
      "cell_type": "markdown",
      "id": "730d83e1",
      "metadata": {
        "id": "730d83e1"
      },
      "source": [
        "<b>Remark: We observe from the above dataset that the data is nonlinear."
      ]
    },
    {
      "cell_type": "markdown",
      "id": "9b186807",
      "metadata": {
        "id": "9b186807"
      },
      "source": [
        "<h2> Q3. Run a logistic regression using built in package of sklearn."
      ]
    },
    {
      "cell_type": "code",
      "execution_count": null,
      "id": "441c3af6",
      "metadata": {
        "id": "441c3af6"
      },
      "outputs": [],
      "source": [
        "# splitting the data\n",
        "x_train, x_test, y_train, y_test = train_test_split(X,y, test_size= 0.2)"
      ]
    },
    {
      "cell_type": "code",
      "execution_count": null,
      "id": "4627a4b0",
      "metadata": {
        "id": "4627a4b0",
        "outputId": "c24a6481-6e85-4aed-d4ff-00ce165bc54c"
      },
      "outputs": [
        {
          "data": {
            "text/plain": [
              "LogisticRegression()"
            ]
          },
          "execution_count": 186,
          "metadata": {},
          "output_type": "execute_result"
        }
      ],
      "source": [
        "#Implementing Logistic Regression using sklearn\n",
        "modelLogistic = LogisticRegression()\n",
        "modelLogistic.fit(x_train,y_train)"
      ]
    },
    {
      "cell_type": "code",
      "execution_count": null,
      "id": "2250e979",
      "metadata": {
        "id": "2250e979"
      },
      "outputs": [],
      "source": [
        "#Make prediction for the test data\n",
        "y_pred= modelLogistic.predict(x_test) "
      ]
    },
    {
      "cell_type": "markdown",
      "id": "ab37ec40",
      "metadata": {
        "id": "ab37ec40"
      },
      "source": [
        "<b>Logistic regression model evaluation"
      ]
    },
    {
      "cell_type": "code",
      "execution_count": null,
      "id": "53a01a9e",
      "metadata": {
        "id": "53a01a9e",
        "outputId": "175fcf3d-1193-4dbf-a3c7-98d14fb554d6"
      },
      "outputs": [
        {
          "name": "stdout",
          "output_type": "stream",
          "text": [
            "[[13  9]\n",
            " [13  5]]\n"
          ]
        }
      ],
      "source": [
        "ConfusionMatrix = confusion_matrix(y_test, y_pred)\n",
        "print(ConfusionMatrix)"
      ]
    },
    {
      "cell_type": "code",
      "execution_count": null,
      "id": "3dbe1c05",
      "metadata": {
        "id": "3dbe1c05",
        "outputId": "f06ec017-51b7-4352-ff6b-1a6a6af59b54"
      },
      "outputs": [
        {
          "data": {
            "image/png": "[encoded data removed]",
            "text/plain": [
              "<Figure size 432x288 with 2 Axes>"
            ]
          },
          "metadata": {
            "needs_background": "light"
          },
          "output_type": "display_data"
        }
      ],
      "source": [
        "ax = sns.heatmap(ConfusionMatrix, annot=True, cmap='Blues')\n",
        "\n",
        "ax.set_title('Seaborn Confusion Matrix with labels\\n\\n');\n",
        "ax.set_xlabel('\\nPredicted Values for admission')\n",
        "ax.set_ylabel('Actual Values for admission ');\n",
        "\n",
        "## Ticket labels - List must be in alphabetical order\n",
        "ax.xaxis.set_ticklabels(['No','Yes'])\n",
        "ax.yaxis.set_ticklabels(['No','Yes'])\n",
        "\n",
        "## Display the visualization of the Confusion Matrix.\n",
        "plt.show()"
      ]
    },
    {
      "cell_type": "code",
      "execution_count": null,
      "id": "e7acbdbb",
      "metadata": {
        "id": "e7acbdbb",
        "outputId": "23adf10d-5a4e-43d7-d2ea-4099090313ec"
      },
      "outputs": [
        {
          "name": "stdout",
          "output_type": "stream",
          "text": [
            "Accuracy of the model is:  0.45\n"
          ]
        }
      ],
      "source": [
        "#Accuracy score\n",
        "Accuracy=accuracy_score(y_test,y_pred)\n",
        "print(\"Accuracy of the model is: \", Accuracy)"
      ]
    },
    {
      "cell_type": "markdown",
      "id": "253294ff",
      "metadata": {
        "id": "253294ff"
      },
      "source": [
        "<b>Remark: Logistic Regression Model Accuracy is 60%"
      ]
    },
    {
      "cell_type": "markdown",
      "id": "d6b4be9a",
      "metadata": {
        "id": "d6b4be9a"
      },
      "source": [
        "<h2> Q4 Build a neural network model with one hidden layer (4 units), one input layer (2 units) and one output layer (one unit).\n",
        "     Allow the neural networks to learn with some good amount of iteration to findout weight matrices and bias vectors."
      ]
    },
    {
      "cell_type": "code",
      "execution_count": null,
      "id": "94b3b691",
      "metadata": {
        "id": "94b3b691"
      },
      "outputs": [],
      "source": [
        "# splitting the data\n",
        "X_train,X_test, y_train, y_test = train_test_split(X,y, test_size= 0.3)"
      ]
    },
    {
      "cell_type": "code",
      "execution_count": null,
      "id": "1a55ea4b",
      "metadata": {
        "id": "1a55ea4b"
      },
      "outputs": [],
      "source": [
        "#taking transpose of train and test data\n",
        "X_train=X_train.transpose()\n",
        "y_train=y_train.transpose()\n",
        "X_test=X_test.transpose()\n",
        "y_test=y_test.transpose()"
      ]
    },
    {
      "cell_type": "code",
      "execution_count": null,
      "id": "3b1e18d3",
      "metadata": {
        "id": "3b1e18d3",
        "outputId": "cc66ceba-dc14-4549-905c-11bd70ff4d15"
      },
      "outputs": [
        {
          "data": {
            "text/html": [
              "<div>\n",
              "<style scoped>\n",
              "    .dataframe tbody tr th:only-of-type {\n",
              "        vertical-align: middle;\n",
              "    }\n",
              "\n",
              "    .dataframe tbody tr th {\n",
              "        vertical-align: top;\n",
              "    }\n",
              "\n",
              "    .dataframe thead th {\n",
              "        text-align: right;\n",
              "    }\n",
              "</style>\n",
              "<table border=\"1\" class=\"dataframe\">\n",
              "  <thead>\n",
              "    <tr style=\"text-align: right;\">\n",
              "      <th></th>\n",
              "      <th>90</th>\n",
              "      <th>115</th>\n",
              "      <th>32</th>\n",
              "      <th>80</th>\n",
              "      <th>105</th>\n",
              "      <th>15</th>\n",
              "      <th>34</th>\n",
              "      <th>143</th>\n",
              "      <th>182</th>\n",
              "      <th>51</th>\n",
              "      <th>...</th>\n",
              "      <th>84</th>\n",
              "      <th>75</th>\n",
              "      <th>74</th>\n",
              "      <th>55</th>\n",
              "      <th>187</th>\n",
              "      <th>130</th>\n",
              "      <th>85</th>\n",
              "      <th>52</th>\n",
              "      <th>157</th>\n",
              "      <th>131</th>\n",
              "    </tr>\n",
              "  </thead>\n",
              "  <tbody>\n",
              "    <tr>\n",
              "      <th>X1</th>\n",
              "      <td>0.031376</td>\n",
              "      <td>0.390456</td>\n",
              "      <td>0.130491</td>\n",
              "      <td>1.152758</td>\n",
              "      <td>0.283403</td>\n",
              "      <td>1.060180</td>\n",
              "      <td>-0.919975</td>\n",
              "      <td>-1.282179</td>\n",
              "      <td>0.195048</td>\n",
              "      <td>-2.429296</td>\n",
              "      <td>...</td>\n",
              "      <td>1.116432</td>\n",
              "      <td>-0.879109</td>\n",
              "      <td>-0.000062</td>\n",
              "      <td>-0.920461</td>\n",
              "      <td>0.562483</td>\n",
              "      <td>-0.063130</td>\n",
              "      <td>0.712577</td>\n",
              "      <td>-0.657713</td>\n",
              "      <td>0.048182</td>\n",
              "      <td>0.005499</td>\n",
              "    </tr>\n",
              "    <tr>\n",
              "      <th>X2</th>\n",
              "      <td>-0.213749</td>\n",
              "      <td>0.962767</td>\n",
              "      <td>-0.077263</td>\n",
              "      <td>-0.416241</td>\n",
              "      <td>0.263673</td>\n",
              "      <td>0.655806</td>\n",
              "      <td>1.056643</td>\n",
              "      <td>-1.474942</td>\n",
              "      <td>0.433062</td>\n",
              "      <td>0.742965</td>\n",
              "      <td>...</td>\n",
              "      <td>1.738620</td>\n",
              "      <td>0.359890</td>\n",
              "      <td>0.431940</td>\n",
              "      <td>-1.019907</td>\n",
              "      <td>-1.025795</td>\n",
              "      <td>-0.711785</td>\n",
              "      <td>-0.159617</td>\n",
              "      <td>0.347399</td>\n",
              "      <td>-0.374189</td>\n",
              "      <td>0.176359</td>\n",
              "    </tr>\n",
              "  </tbody>\n",
              "</table>\n",
              "<p>2 rows × 140 columns</p>\n",
              "</div>"
            ],
            "text/plain": [
              "         90        115       32        80        105       15        34   \\\n",
              "X1  0.031376  0.390456  0.130491  1.152758  0.283403  1.060180 -0.919975   \n",
              "X2 -0.213749  0.962767 -0.077263 -0.416241  0.263673  0.655806  1.056643   \n",
              "\n",
              "         143       182       51   ...       84        75        74        55   \\\n",
              "X1 -1.282179  0.195048 -2.429296  ...  1.116432 -0.879109 -0.000062 -0.920461   \n",
              "X2 -1.474942  0.433062  0.742965  ...  1.738620  0.359890  0.431940 -1.019907   \n",
              "\n",
              "         187       130       85        52        157       131  \n",
              "X1  0.562483 -0.063130  0.712577 -0.657713  0.048182  0.005499  \n",
              "X2 -1.025795 -0.711785 -0.159617  0.347399 -0.374189  0.176359  \n",
              "\n",
              "[2 rows x 140 columns]"
            ]
          },
          "execution_count": 193,
          "metadata": {},
          "output_type": "execute_result"
        }
      ],
      "source": [
        "#visualize train predictor data\n",
        "X_train.head()"
      ]
    },
    {
      "cell_type": "code",
      "execution_count": null,
      "id": "3209f702",
      "metadata": {
        "id": "3209f702",
        "outputId": "430bc9f3-4b75-460d-e874-b0c8488397fb"
      },
      "outputs": [
        {
          "data": {
            "text/html": [
              "<div>\n",
              "<style scoped>\n",
              "    .dataframe tbody tr th:only-of-type {\n",
              "        vertical-align: middle;\n",
              "    }\n",
              "\n",
              "    .dataframe tbody tr th {\n",
              "        vertical-align: top;\n",
              "    }\n",
              "\n",
              "    .dataframe thead th {\n",
              "        text-align: right;\n",
              "    }\n",
              "</style>\n",
              "<table border=\"1\" class=\"dataframe\">\n",
              "  <thead>\n",
              "    <tr style=\"text-align: right;\">\n",
              "      <th></th>\n",
              "      <th>90</th>\n",
              "      <th>115</th>\n",
              "      <th>32</th>\n",
              "      <th>80</th>\n",
              "      <th>105</th>\n",
              "      <th>15</th>\n",
              "      <th>34</th>\n",
              "      <th>143</th>\n",
              "      <th>182</th>\n",
              "      <th>51</th>\n",
              "      <th>...</th>\n",
              "      <th>84</th>\n",
              "      <th>75</th>\n",
              "      <th>74</th>\n",
              "      <th>55</th>\n",
              "      <th>187</th>\n",
              "      <th>130</th>\n",
              "      <th>85</th>\n",
              "      <th>52</th>\n",
              "      <th>157</th>\n",
              "      <th>131</th>\n",
              "    </tr>\n",
              "  </thead>\n",
              "  <tbody>\n",
              "    <tr>\n",
              "      <th>Y</th>\n",
              "      <td>0</td>\n",
              "      <td>1</td>\n",
              "      <td>0</td>\n",
              "      <td>1</td>\n",
              "      <td>0</td>\n",
              "      <td>1</td>\n",
              "      <td>1</td>\n",
              "      <td>1</td>\n",
              "      <td>0</td>\n",
              "      <td>1</td>\n",
              "      <td>...</td>\n",
              "      <td>1</td>\n",
              "      <td>1</td>\n",
              "      <td>0</td>\n",
              "      <td>1</td>\n",
              "      <td>1</td>\n",
              "      <td>0</td>\n",
              "      <td>0</td>\n",
              "      <td>0</td>\n",
              "      <td>0</td>\n",
              "      <td>0</td>\n",
              "    </tr>\n",
              "  </tbody>\n",
              "</table>\n",
              "<p>1 rows × 140 columns</p>\n",
              "</div>"
            ],
            "text/plain": [
              "   90   115  32   80   105  15   34   143  182  51   ...  84   75   74   55   \\\n",
              "Y    0    1    0    1    0    1    1    1    0    1  ...    1    1    0    1   \n",
              "\n",
              "   187  130  85   52   157  131  \n",
              "Y    1    0    0    0    0    0  \n",
              "\n",
              "[1 rows x 140 columns]"
            ]
          },
          "execution_count": 194,
          "metadata": {},
          "output_type": "execute_result"
        }
      ],
      "source": [
        "#Visualize train target data\n",
        "y_train.head()"
      ]
    },
    {
      "cell_type": "code",
      "execution_count": null,
      "id": "c7372a90",
      "metadata": {
        "id": "c7372a90"
      },
      "outputs": [],
      "source": [
        "#Convert train target data to numpy array for ease in processing\n",
        "y_train=np.array(y_train)"
      ]
    },
    {
      "cell_type": "code",
      "execution_count": null,
      "id": "d56682c0",
      "metadata": {
        "id": "d56682c0",
        "outputId": "3d878f81-4b55-46ea-ac1a-b00c7b50cb93"
      },
      "outputs": [
        {
          "name": "stdout",
          "output_type": "stream",
          "text": [
            "Shape of input matrix X is:  (2, 140)\n",
            "Shape of input matrix Y is:  (1, 140)\n",
            "No of training samples is:  140\n"
          ]
        }
      ],
      "source": [
        "#To ascertain the shape of training X and y\n",
        "#We take the count of number of samples in variable m\n",
        "m=y_train.shape[1]\n",
        "print(\"Shape of input matrix X is: \",X_train.shape)\n",
        "print(\"Shape of input matrix Y is: \",y_train.shape)\n",
        "print(\"No of training samples is: \",m)"
      ]
    },
    {
      "cell_type": "code",
      "execution_count": null,
      "id": "ac8a3bf0",
      "metadata": {
        "id": "ac8a3bf0"
      },
      "outputs": [],
      "source": [
        "#Function to ascertain the number of nodes in input layer, output layer and hidden layer\n",
        "def layer_sizes(X, y, n_h):\n",
        "  \n",
        "    n_x= X.shape[0] #the size of the input layer\n",
        "    n_h=n_h #the size of the hidden layer\n",
        "    n_y=y.shape[0] #the size of the output layer\n",
        "    \n",
        "    return (n_x, n_h, n_y)"
      ]
    },
    {
      "cell_type": "code",
      "execution_count": null,
      "id": "fe2e9642",
      "metadata": {
        "id": "fe2e9642"
      },
      "outputs": [],
      "source": [
        "#Function to initialize parameters W and b. Function will return the values of W and b\n",
        "def initialize_parameters(n_x, n_h, n_y):\n",
        "    \n",
        "    #These four lines of the code can be used to generate random matrix for W1 and W2\n",
        "\n",
        "    W1= np.random.randn(n_h,n_x)*0.1 #weight matrix of shape (n_h, n_x)\n",
        "    W2=np.random.randn(n_y,n_h)*0.1#weight matrix of shape (n_y, n_h)\n",
        "    b1= np.zeros(shape=(n_h,1)) #bias vector of shape (n_h, 1)\n",
        "    b2= np.zeros(shape=(n_y,1)) #bias vector of shape (n_y, 1)\n",
        "    return W1,W2,b1,b2\n",
        "   "
      ]
    },
    {
      "cell_type": "markdown",
      "id": "4850353f",
      "metadata": {
        "id": "4850353f"
      },
      "source": [
        "Forward Propagation"
      ]
    },
    {
      "cell_type": "code",
      "execution_count": null,
      "id": "46cb32b7",
      "metadata": {
        "id": "46cb32b7"
      },
      "outputs": [],
      "source": [
        "#Function to implement forward_propagation\n",
        "#this function will obtain the values of Z1, A1, Z2 A2 and cost\n",
        "def forward_propagation(X,W1,W2,b1,b2):\n",
        "    Z1= np.dot(W1,X)+b1\n",
        "    #A1= 1/(1+np.exp(-Z1)) #Using sigmoid function for the last layer\n",
        "    A1= np.tanh(Z1) #Using tanh function for the middle layer\n",
        "    Z2= np.dot(W2,A1)+b2\n",
        "    A2= 1/(1+np.exp(-Z2)) #Using sigmoid function for the last layer\n",
        "    \n",
        "    return Z1,A1,Z2,A2"
      ]
    },
    {
      "cell_type": "markdown",
      "id": "82ad9fc0",
      "metadata": {
        "id": "82ad9fc0"
      },
      "source": [
        "Cost function"
      ]
    },
    {
      "cell_type": "code",
      "execution_count": null,
      "id": "8f636cc0",
      "metadata": {
        "id": "8f636cc0"
      },
      "outputs": [],
      "source": [
        "#Function to compute cost function\n",
        "def compute_cost(A2, Y, m):\n",
        "    logJ= np.multiply(np.log(A2),Y)+np.multiply(np.log(1-A2),(1-Y))\n",
        "    J=-(1/m)*np.sum(logJ)\n",
        "    \n",
        "    return (J)"
      ]
    },
    {
      "cell_type": "markdown",
      "id": "629b326a",
      "metadata": {
        "id": "629b326a"
      },
      "source": [
        "Backward Propagation"
      ]
    },
    {
      "cell_type": "code",
      "execution_count": null,
      "id": "36f58d1c",
      "metadata": {
        "id": "36f58d1c"
      },
      "outputs": [],
      "source": [
        "def backward_propagation(W1,W2,A1,A2,Y,m,X):\n",
        "    dZ2= A2 - Y\n",
        "    dW2 = (1 / m) * np.dot(dZ2, A1.T)\n",
        "    db2 = (1 / m) * np.sum(dZ2, axis=1,keepdims=True)\n",
        "    dZ1 = np.multiply(np.dot(W2.T, dZ2), 1 - np.power(A1, 2))\n",
        "    dW1 = (1 / m) * np.dot(dZ1, X.T)\n",
        "    db1 = (1 / m) * np.sum(dZ1, axis=1,keepdims=True)\n",
        "    return dZ2,dW2,db2,dZ1,dW1,db1,db2"
      ]
    },
    {
      "cell_type": "code",
      "execution_count": null,
      "id": "ee7103b6",
      "metadata": {
        "id": "ee7103b6"
      },
      "outputs": [],
      "source": [
        "#Function to update the parameter W and b values\n",
        "#This function will return upadted values of W1, W2, b1, b2\n",
        "def update_parameters(W1,W2,b1,b2,dW1,dW2,db1,db2,alpha):\n",
        "    \n",
        "    W1 = W1 - alpha * dW1\n",
        "    b1 = b1 - alpha * db1\n",
        "    W2 = W2 - alpha * dW2\n",
        "    b2 = b2 - alpha * db2\n",
        "    return W1,b1,W2,b2"
      ]
    },
    {
      "cell_type": "code",
      "execution_count": null,
      "id": "274731d0",
      "metadata": {
        "id": "274731d0"
      },
      "outputs": [],
      "source": [
        "#This single function will call all the functions and retrun the cost function values\n",
        "#and the final value of the W and b parameters\n",
        "def iterations(X,y,iterNo, alpha, n_h):\n",
        "    J=np.zeros(iterNo)\n",
        "    n_x,n_h,n_y= layer_sizes(X,y, n_h)\n",
        "    W1,W2,b1,b2=initialize_parameters(n_x, n_h, n_y)\n",
        "    for i in range(iterNo):\n",
        "\n",
        "        Z1,A1,Z2,A2=forward_propagation(X,W1,W2,b1,b2)\n",
        "        cost=compute_cost(A2,y,m)\n",
        "        #if iterNo%8==0:\n",
        "            #print(cost)\n",
        "        \n",
        "        J[i]=cost\n",
        "        dZ2,dW2,db2,dZ1,dW1,db1,db2=backward_propagation(W1,W2,A1,A2,y,m,X)\n",
        "        W1,b1,W2,b2=update_parameters(W1,W2,b1,b2,dW1,dW2,db1,db2,alpha)\n",
        "    return W1,b1,W2,b2,J\n",
        "  "
      ]
    },
    {
      "cell_type": "code",
      "execution_count": null,
      "id": "d2971f59",
      "metadata": {
        "id": "d2971f59",
        "outputId": "b01d5282-1b94-4cff-c252-12afde255357"
      },
      "outputs": [
        {
          "name": "stdout",
          "output_type": "stream",
          "text": [
            "Enter the number of iterations: 50000\n",
            "Enter the learning rate: 0.005\n",
            "Enter the number of nodes in hidden layer: 4\n"
          ]
        }
      ],
      "source": [
        "#Enter the number of iterations for which we want to run the loop for forward and\n",
        "#backward propagation\n",
        "iterNo=int(input(\"Enter the number of iterations: \"))\n",
        "alpha= float(input(\"Enter the learning rate: \"))\n",
        "n_h= int(input(\"Enter the number of nodes in hidden layer: \"))"
      ]
    },
    {
      "cell_type": "code",
      "execution_count": null,
      "id": "66d36c88",
      "metadata": {
        "id": "66d36c88"
      },
      "outputs": [],
      "source": [
        "W1, b1,W2,b2,J= iterations(X_train,y_train,iterNo, alpha, n_h)\n",
        "#print(\"The cost for {} iterations is \\n {}\".format(iterNo, J))"
      ]
    },
    {
      "cell_type": "markdown",
      "id": "1cece4db",
      "metadata": {
        "id": "1cece4db"
      },
      "source": [
        "<h2> For iterations= 50000, learning rate = 0.005 and number of units in hidden layer =4"
      ]
    },
    {
      "cell_type": "code",
      "execution_count": null,
      "id": "1102c414",
      "metadata": {
        "id": "1102c414",
        "outputId": "c2314282-a58b-4a2d-ed51-691d3f58e6e3"
      },
      "outputs": [
        {
          "data": {
            "text/plain": [
              "[<matplotlib.lines.Line2D at 0x21535313fd0>]"
            ]
          },
          "execution_count": 206,
          "metadata": {},
          "output_type": "execute_result"
        },
        {
          "data": {
            "image/png": "[encoded data removed]",
            "text/plain": [
              "<Figure size 432x288 with 1 Axes>"
            ]
          },
          "metadata": {
            "needs_background": "light"
          },
          "output_type": "display_data"
        }
      ],
      "source": [
        "#Plot the cost \n",
        "plt.plot(J)"
      ]
    },
    {
      "cell_type": "code",
      "execution_count": null,
      "id": "722e7503",
      "metadata": {
        "id": "722e7503",
        "outputId": "2ef29337-16bf-4222-9b28-7060217bd446"
      },
      "outputs": [
        {
          "name": "stdout",
          "output_type": "stream",
          "text": [
            "Final W1\n",
            " [[ 1.26242976  0.53578541]\n",
            " [-2.13623993 -2.17139327]\n",
            " [-0.61678671 -0.31104908]\n",
            " [-0.20477232  1.58164374]]\n",
            "Final W2\n",
            " [[-1.40538572 -2.58638374  0.83973301 -1.21150459]]\n",
            "Final b1\n",
            " [[0.55891511]\n",
            " [1.37181289]\n",
            " [0.03600436]\n",
            " [0.8822087 ]]\n",
            "Final b2\n",
            " [[2.04360058]]\n"
          ]
        }
      ],
      "source": [
        "#Output for weight and bias matrices \n",
        "print(\"Final W1\\n\", W1)\n",
        "print(\"Final W2\\n\", W2)\n",
        "print(\"Final b1\\n\", b1)\n",
        "print(\"Final b2\\n\", b2)"
      ]
    },
    {
      "cell_type": "markdown",
      "id": "ac38288b",
      "metadata": {
        "id": "ac38288b"
      },
      "source": [
        "<h2>With iterations= 50000, learning rate = 0.005 and number of units in hidden layer =4, checking the accuracy for the training set"
      ]
    },
    {
      "cell_type": "code",
      "execution_count": null,
      "id": "5a83ff27",
      "metadata": {
        "id": "5a83ff27"
      },
      "outputs": [],
      "source": [
        "#Obtain the value of A2 and predicted target variable for training set\n",
        "Z1,A1,Z2,A2=forward_propagation(X_train,W1,W2,b1,b2)\n",
        "#print(A2)\n",
        "y_train_pred= np.where(A2>0.5, 1,0)"
      ]
    },
    {
      "cell_type": "code",
      "execution_count": null,
      "id": "b0b81bd0",
      "metadata": {
        "id": "b0b81bd0",
        "outputId": "de99aeef-5410-467a-838a-d9ce4de031fe"
      },
      "outputs": [
        {
          "name": "stdout",
          "output_type": "stream",
          "text": [
            "123\n",
            "Training Accuracy is:  0.8785714285714286\n"
          ]
        }
      ],
      "source": [
        "count= np.where(y_train_pred==y_train,1,0)\n",
        "print(np.sum(count))\n",
        "accuracy= np.sum(count)/y_train.shape[1]\n",
        "print(\"Training Accuracy is: \",accuracy)"
      ]
    },
    {
      "cell_type": "markdown",
      "id": "6ae2a811",
      "metadata": {
        "id": "6ae2a811"
      },
      "source": [
        "<h3> Remark: With iterations= 50000, learning rate = 0.005 and number of units in hidden layer =4, Accuracy of the training dataset is 82.14%"
      ]
    },
    {
      "cell_type": "markdown",
      "id": "6db98bd3",
      "metadata": {
        "id": "6db98bd3"
      },
      "source": [
        "<h2>With iterations= 50000, learning rate = 0.005 and number of units in hidden layer =4, checking the accuracy for the testing set"
      ]
    },
    {
      "cell_type": "code",
      "execution_count": null,
      "id": "6931e59c",
      "metadata": {
        "id": "6931e59c",
        "outputId": "3382eff4-735a-4be8-d10e-c2fa876d67fb"
      },
      "outputs": [
        {
          "name": "stdout",
          "output_type": "stream",
          "text": [
            "Testing Accuracy is:  0.8333333333333334\n"
          ]
        }
      ],
      "source": [
        "y_test=np.array(y_test)\n",
        "Z1,A1,Z2,A2=forward_propagation(X_test,W1,W2,b1,b2)\n",
        "y_test=np.array(y_test)\n",
        "y_test_pred= np.where(A2>0.5, 1,0)\n",
        "count= np.where(y_test_pred==y_test,1,0)\n",
        "accuracy= np.sum(count)/y_test.shape[1]\n",
        "print(\"Testing Accuracy is: \",accuracy)"
      ]
    },
    {
      "cell_type": "markdown",
      "id": "d8369a20",
      "metadata": {
        "id": "d8369a20"
      },
      "source": [
        "<h3> Remark: With iterations= 50000, learning rate = 0.005 and number of units in hidden layer =4, Accuracy of the training dataset is 82.14%"
      ]
    },
    {
      "cell_type": "markdown",
      "id": "74c1a314",
      "metadata": {
        "id": "74c1a314"
      },
      "source": [
        "\n",
        "\n",
        "<h2> Q5 Generic code to try neural network model with one hidden and [1,2,3,4,5,20 and 50] units in one hidden layer. Analyse the reult in terms of accuracy. To find whcih model to choose as final model\n",
        "\n"
      ]
    },
    {
      "cell_type": "code",
      "execution_count": null,
      "id": "a05d8195",
      "metadata": {
        "id": "a05d8195"
      },
      "outputs": [],
      "source": [
        "#Number of units that we want in one hidden layer\n",
        "units= np.array([1,2,3,4,5,20,50])\n"
      ]
    },
    {
      "cell_type": "code",
      "execution_count": null,
      "id": "9f88cbae",
      "metadata": {
        "id": "9f88cbae"
      },
      "outputs": [],
      "source": [
        "# splitting the data\n",
        "X_train,X_test, y_train, y_test = train_test_split(X,y, test_size= 0.3)"
      ]
    },
    {
      "cell_type": "code",
      "execution_count": null,
      "id": "bb54eefe",
      "metadata": {
        "id": "bb54eefe"
      },
      "outputs": [],
      "source": [
        "#taking transpose of train and test data\n",
        "X_train=X_train.transpose()\n",
        "y_train=y_train.transpose()\n",
        "X_test=X_test.transpose()\n",
        "y_test=y_test.transpose()\n",
        "y_train=np.array(y_train)\n",
        "y_test=np.array(y_test)"
      ]
    },
    {
      "cell_type": "code",
      "execution_count": null,
      "id": "b49b3836",
      "metadata": {
        "id": "b49b3836",
        "outputId": "37c959c0-0f06-464a-884a-a42fb22bb242"
      },
      "outputs": [
        {
          "name": "stdout",
          "output_type": "stream",
          "text": [
            "Enter the number of iterations: 50000\n",
            "Enter the learning rate: 0.0075\n"
          ]
        },
        {
          "data": {
            "image/png": "[encoded data removed]",
            "text/plain": [
              "<Figure size 1800x720 with 6 Axes>"
            ]
          },
          "metadata": {
            "needs_background": "light"
          },
          "output_type": "display_data"
        }
      ],
      "source": [
        "#Set the figure size for the plot\n",
        "plt.figure(figsize=(25,10)) \n",
        "\n",
        "#Ask from the user number of iterations, learning rate\n",
        "iterNo=int(input(\"Enter the number of iterations: \"))\n",
        "alpha= float(input(\"Enter the learning rate: \"))\n",
        "\n",
        "#Create an array to store accuracy corresponding to various units in hidden layer\n",
        "accuracy=np.zeros(len(units))\n",
        "\n",
        "#This loop will run for total number of values in the units array\n",
        "for i in range(len(units)): \n",
        "    \n",
        "    #Call iterations function to obtain the final values for weigh and bias matrices\n",
        "    W1, b1,W2,b2,J= iterations(X_train,y_train,iterNo, alpha,units[i])\n",
        "   \n",
        "    Z1,A1,Z2,A2=forward_propagation(X_test,W1,W2,b1,b2)\n",
        "    y_test=np.array(y_test)\n",
        "    y_test_pred= np.where(A2>0.5, 1,0)\n",
        "    count= np.where(y_test_pred==y_test,1,0)\n",
        "    accuracy[i]= np.sum(count)/y_test.shape[1]\n",
        "    try:\n",
        "        plt.subplot(2,3,i+1)\n",
        "        plt.plot(J)\n",
        "        plt.title(\"Units in hidden layer {} accuracy is {} \".format(units[i], accuracy[i]))\n",
        "    except:\n",
        "        pass\n",
        "    \n",
        "    \n"
      ]
    },
    {
      "cell_type": "code",
      "execution_count": null,
      "id": "61641c06",
      "metadata": {
        "id": "61641c06",
        "outputId": "a960a05a-a9a9-4e4e-ea1e-ed7ed51c137e"
      },
      "outputs": [
        {
          "data": {
            "text/html": [
              "<div>\n",
              "<style scoped>\n",
              "    .dataframe tbody tr th:only-of-type {\n",
              "        vertical-align: middle;\n",
              "    }\n",
              "\n",
              "    .dataframe tbody tr th {\n",
              "        vertical-align: top;\n",
              "    }\n",
              "\n",
              "    .dataframe thead th {\n",
              "        text-align: right;\n",
              "    }\n",
              "</style>\n",
              "<table border=\"1\" class=\"dataframe\">\n",
              "  <thead>\n",
              "    <tr style=\"text-align: right;\">\n",
              "      <th></th>\n",
              "      <th>Units in hidden layer</th>\n",
              "      <th>Accuracy</th>\n",
              "    </tr>\n",
              "  </thead>\n",
              "  <tbody>\n",
              "    <tr>\n",
              "      <th>0</th>\n",
              "      <td>1</td>\n",
              "      <td>0.716667</td>\n",
              "    </tr>\n",
              "    <tr>\n",
              "      <th>1</th>\n",
              "      <td>2</td>\n",
              "      <td>0.783333</td>\n",
              "    </tr>\n",
              "    <tr>\n",
              "      <th>2</th>\n",
              "      <td>3</td>\n",
              "      <td>0.933333</td>\n",
              "    </tr>\n",
              "    <tr>\n",
              "      <th>3</th>\n",
              "      <td>4</td>\n",
              "      <td>0.933333</td>\n",
              "    </tr>\n",
              "    <tr>\n",
              "      <th>4</th>\n",
              "      <td>5</td>\n",
              "      <td>0.950000</td>\n",
              "    </tr>\n",
              "    <tr>\n",
              "      <th>5</th>\n",
              "      <td>20</td>\n",
              "      <td>0.933333</td>\n",
              "    </tr>\n",
              "    <tr>\n",
              "      <th>6</th>\n",
              "      <td>50</td>\n",
              "      <td>0.933333</td>\n",
              "    </tr>\n",
              "  </tbody>\n",
              "</table>\n",
              "</div>"
            ],
            "text/plain": [
              "   Units in hidden layer  Accuracy\n",
              "0                      1  0.716667\n",
              "1                      2  0.783333\n",
              "2                      3  0.933333\n",
              "3                      4  0.933333\n",
              "4                      5  0.950000\n",
              "5                     20  0.933333\n",
              "6                     50  0.933333"
            ]
          },
          "execution_count": 217,
          "metadata": {},
          "output_type": "execute_result"
        }
      ],
      "source": [
        "df1 = pd.DataFrame(list(zip(units, accuracy)),columns =['Units in hidden layer', 'Accuracy'])\n",
        "df1"
      ]
    },
    {
      "cell_type": "code",
      "execution_count": null,
      "id": "612951a7",
      "metadata": {
        "id": "612951a7",
        "outputId": "c14f7291-6295-492b-ff6b-f35ce131f008"
      },
      "outputs": [
        {
          "data": {
            "text/plain": [
              "Text(0.5, 1.0, 'Plot of number of hidden layer units versus accuracy')"
            ]
          },
          "execution_count": 218,
          "metadata": {},
          "output_type": "execute_result"
        },
        {
          "data": {
            "image/png": "[encoded data removed]",
            "text/plain": [
              "<Figure size 720x360 with 1 Axes>"
            ]
          },
          "metadata": {
            "needs_background": "light"
          },
          "output_type": "display_data"
        }
      ],
      "source": [
        "#Plot of number of hidden layer units versus accuracy\n",
        "plt.figure(figsize=(10,5))\n",
        "plt.plot(df1['Units in hidden layer'],df1['Accuracy'])\n",
        "plt.xlabel(\"Units in hidden layer\")\n",
        "plt.ylabel(\"Accuracy\")\n",
        "plt.title(\"Plot of number of hidden layer units versus accuracy\")"
      ]
    },
    {
      "cell_type": "markdown",
      "id": "88839525",
      "metadata": {
        "id": "88839525"
      },
      "source": [
        "<h2>Conclusion:  We have implemented Neeural network with one input layer(two units), one hidden layer(variable units) and one output layer (one unit). Number of units taken in the hidden layer were 1,2,3,4,5,20 and 50.\n",
        "From the plots and the dataframe above, it is observed that for 50,000 iterations and learning rate= 0.0075, the accuracy obtained for anything above 20 layers is 93.33%. So we can conclude that after a certain increase in number of hidden layers, there not much change in accuracy. Then we need to try other parameters like learning rate or number of iterations."
      ]
    },
    {
      "cell_type": "code",
      "execution_count": null,
      "id": "2eb99c3b",
      "metadata": {
        "id": "2eb99c3b"
      },
      "outputs": [],
      "source": []
    }
  ],
  "metadata": {
    "kernelspec": {
      "display_name": "Python 3 (ipykernel)",
      "language": "python",
      "name": "python3"
    },
    "language_info": {
      "codemirror_mode": {
        "name": "ipython",
        "version": 3
      },
      "file_extension": ".py",
      "mimetype": "text/x-python",
      "name": "python",
      "nbconvert_exporter": "python",
      "pygments_lexer": "ipython3",
      "version": "3.9.12"
    },
    "colab": {
      "provenance": [],
      "include_colab_link": true
    }
  },
  "nbformat": 4,
  "nbformat_minor": 5
}