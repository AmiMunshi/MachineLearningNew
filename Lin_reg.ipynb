{
 "cells": [
  {
   "cell_type": "code",
   "execution_count": 2,
   "metadata": {},
   "outputs": [],
   "source": [
    "import pandas as pd\n",
    "import numpy as np\n",
    "import matplotlib.pyplot as plt\n",
    "#from mpl_toolkits.mplot3d import axes3d\n",
    "import seaborn as sns\n",
    "\n",
    "from sklearn.preprocessing import scale\n",
    "import sklearn.linear_model as skl_lm\n",
    "from sklearn.metrics import mean_squared_error, r2_score\n",
    "import statsmodels.api as sm\n",
    "import statsmodels.formula.api as smf\n",
    "\n",
    "%matplotlib inline\n",
    "plt.style.use('seaborn-white')"
   ]
  },
  {
   "cell_type": "code",
   "execution_count": 62,
   "metadata": {},
   "outputs": [
    {
     "name": "stdout",
     "output_type": "stream",
     "text": [
      "<class 'pandas.core.frame.DataFrame'>\n",
      "RangeIndex: 200 entries, 0 to 199\n",
      "Data columns (total 5 columns):\n",
      " #   Column      Non-Null Count  Dtype  \n",
      "---  ------      --------------  -----  \n",
      " 0   Unnamed: 0  200 non-null    int64  \n",
      " 1   TV          200 non-null    float64\n",
      " 2   radio       200 non-null    float64\n",
      " 3   newspaper   200 non-null    float64\n",
      " 4   sales       200 non-null    float64\n",
      "dtypes: float64(4), int64(1)\n",
      "memory usage: 7.9 KB\n"
     ]
    }
   ],
   "source": [
    "advertising = pd.read_csv('Advertising.csv')\n",
    "advertising.info()"
   ]
  },
  {
   "cell_type": "code",
   "execution_count": 63,
   "metadata": {},
   "outputs": [],
   "source": [
    "advertising.drop(\"Unnamed: 0\", axis = 1, inplace = True)"
   ]
  },
  {
   "cell_type": "code",
   "execution_count": 76,
   "metadata": {},
   "outputs": [
    {
     "data": {
      "image/png": "[encoded data removed]",
      "text/plain": [
       "<Figure size 432x288 with 1 Axes>"
      ]
     },
     "metadata": {
      "needs_background": "light"
     },
     "output_type": "display_data"
    }
   ],
   "source": [
    "sns.regplot(y =  advertising.sales, x = advertising.TV, order=1, ci=None, scatter_kws={'color':'r', 's':9})\n",
    "plt.xlim(-10,310)\n",
    "plt.ylim(ymin=0);"
   ]
  },
  {
   "cell_type": "code",
   "execution_count": 6,
   "metadata": {},
   "outputs": [
    {
     "data": {
      "text/plain": [
       "0      230.1\n",
       "1       44.5\n",
       "2       17.2\n",
       "3      151.5\n",
       "4      180.8\n",
       "       ...  \n",
       "195     38.2\n",
       "196     94.2\n",
       "197    177.0\n",
       "198    283.6\n",
       "199    232.1\n",
       "Name: TV, Length: 200, dtype: float64"
      ]
     },
     "execution_count": 6,
     "metadata": {},
     "output_type": "execute_result"
    }
   ],
   "source": [
    "advertising.TV"
   ]
  },
  {
   "cell_type": "code",
   "execution_count": 78,
   "metadata": {},
   "outputs": [],
   "source": [
    "est = smf.ols('sales ~ TV', advertising).fit()"
   ]
  },
  {
   "cell_type": "code",
   "execution_count": 83,
   "metadata": {},
   "outputs": [
    {
     "data": {
      "text/html": [
       "<table class=\"simpletable\">\n",
       "<caption>OLS Regression Results</caption>\n",
       "<tr>\n",
       "  <th>Dep. Variable:</th>          <td>sales</td>      <th>  R-squared:         </th> <td>   0.612</td>\n",
       "</tr>\n",
       "<tr>\n",
       "  <th>Model:</th>                   <td>OLS</td>       <th>  Adj. R-squared:    </th> <td>   0.610</td>\n",
       "</tr>\n",
       "<tr>\n",
       "  <th>Method:</th>             <td>Least Squares</td>  <th>  F-statistic:       </th> <td>   312.1</td>\n",
       "</tr>\n",
       "<tr>\n",
       "  <th>Date:</th>             <td>Sat, 28 Jan 2023</td> <th>  Prob (F-statistic):</th> <td>1.47e-42</td>\n",
       "</tr>\n",
       "<tr>\n",
       "  <th>Time:</th>                 <td>16:11:53</td>     <th>  Log-Likelihood:    </th> <td> -519.05</td>\n",
       "</tr>\n",
       "<tr>\n",
       "  <th>No. Observations:</th>      <td>   200</td>      <th>  AIC:               </th> <td>   1042.</td>\n",
       "</tr>\n",
       "<tr>\n",
       "  <th>Df Residuals:</th>          <td>   198</td>      <th>  BIC:               </th> <td>   1049.</td>\n",
       "</tr>\n",
       "<tr>\n",
       "  <th>Df Model:</th>              <td>     1</td>      <th>                     </th>     <td> </td>   \n",
       "</tr>\n",
       "<tr>\n",
       "  <th>Covariance Type:</th>      <td>nonrobust</td>    <th>                     </th>     <td> </td>   \n",
       "</tr>\n",
       "</table>"
      ],
      "text/plain": [
       "<class 'statsmodels.iolib.table.SimpleTable'>"
      ]
     },
     "execution_count": 83,
     "metadata": {},
     "output_type": "execute_result"
    }
   ],
   "source": [
    "est.summary().tables[0]"
   ]
  },
  {
   "cell_type": "code",
   "execution_count": 84,
   "metadata": {},
   "outputs": [
    {
     "data": {
      "text/html": [
       "<table class=\"simpletable\">\n",
       "<tr>\n",
       "      <td></td>         <th>coef</th>     <th>std err</th>      <th>t</th>      <th>P>|t|</th>  <th>[0.025</th>    <th>0.975]</th>  \n",
       "</tr>\n",
       "<tr>\n",
       "  <th>Intercept</th> <td>    7.0326</td> <td>    0.458</td> <td>   15.360</td> <td> 0.000</td> <td>    6.130</td> <td>    7.935</td>\n",
       "</tr>\n",
       "<tr>\n",
       "  <th>TV</th>        <td>    0.0475</td> <td>    0.003</td> <td>   17.668</td> <td> 0.000</td> <td>    0.042</td> <td>    0.053</td>\n",
       "</tr>\n",
       "</table>"
      ],
      "text/plain": [
       "<class 'statsmodels.iolib.table.SimpleTable'>"
      ]
     },
     "execution_count": 84,
     "metadata": {},
     "output_type": "execute_result"
    }
   ],
   "source": [
    "est.summary().tables[1]"
   ]
  },
  {
   "cell_type": "code",
   "execution_count": 86,
   "metadata": {},
   "outputs": [
    {
     "data": {
      "text/html": [
       "<table class=\"simpletable\">\n",
       "<tr>\n",
       "  <th>Omnibus:</th>       <td> 0.531</td> <th>  Durbin-Watson:     </th> <td>   1.935</td>\n",
       "</tr>\n",
       "<tr>\n",
       "  <th>Prob(Omnibus):</th> <td> 0.767</td> <th>  Jarque-Bera (JB):  </th> <td>   0.669</td>\n",
       "</tr>\n",
       "<tr>\n",
       "  <th>Skew:</th>          <td>-0.089</td> <th>  Prob(JB):          </th> <td>   0.716</td>\n",
       "</tr>\n",
       "<tr>\n",
       "  <th>Kurtosis:</th>      <td> 2.779</td> <th>  Cond. No.          </th> <td>    338.</td>\n",
       "</tr>\n",
       "</table>"
      ],
      "text/plain": [
       "<class 'statsmodels.iolib.table.SimpleTable'>"
      ]
     },
     "execution_count": 86,
     "metadata": {},
     "output_type": "execute_result"
    }
   ],
   "source": [
    "est.summary().tables[2]"
   ]
  },
  {
   "cell_type": "code",
   "execution_count": 95,
   "metadata": {},
   "outputs": [
    {
     "data": {
      "text/plain": [
       "Intercept    7.032594\n",
       "TV           0.047537\n",
       "dtype: float64"
      ]
     },
     "execution_count": 95,
     "metadata": {},
     "output_type": "execute_result"
    }
   ],
   "source": [
    "est.params"
   ]
  },
  {
   "cell_type": "code",
   "execution_count": 96,
   "metadata": {},
   "outputs": [
    {
     "data": {
      "text/plain": [
       "2102.5305831313512"
      ]
     },
     "execution_count": 96,
     "metadata": {},
     "output_type": "execute_result"
    }
   ],
   "source": [
    "# RSS with regression coefficients\n",
    "((advertising.sales - (est.params[0] + est.params[1]*advertising.TV))**2).sum()"
   ]
  },
  {
   "cell_type": "code",
   "execution_count": 102,
   "metadata": {
    "scrolled": true
   },
   "outputs": [
    {
     "data": {
      "text/plain": [
       "array([[230.1],\n",
       "       [ 44.5],\n",
       "       [ 17.2],\n",
       "       [151.5],\n",
       "       [180.8],\n",
       "       [  8.7],\n",
       "       [ 57.5],\n",
       "       [120.2],\n",
       "       [  8.6],\n",
       "       [199.8],\n",
       "       [ 66.1],\n",
       "       [214.7],\n",
       "       [ 23.8],\n",
       "       [ 97.5],\n",
       "       [204.1],\n",
       "       [195.4],\n",
       "       [ 67.8],\n",
       "       [281.4],\n",
       "       [ 69.2],\n",
       "       [147.3],\n",
       "       [218.4],\n",
       "       [237.4],\n",
       "       [ 13.2],\n",
       "       [228.3],\n",
       "       [ 62.3],\n",
       "       [262.9],\n",
       "       [142.9],\n",
       "       [240.1],\n",
       "       [248.8],\n",
       "       [ 70.6],\n",
       "       [292.9],\n",
       "       [112.9],\n",
       "       [ 97.2],\n",
       "       [265.6],\n",
       "       [ 95.7],\n",
       "       [290.7],\n",
       "       [266.9],\n",
       "       [ 74.7],\n",
       "       [ 43.1],\n",
       "       [228. ],\n",
       "       [202.5],\n",
       "       [177. ],\n",
       "       [293.6],\n",
       "       [206.9],\n",
       "       [ 25.1],\n",
       "       [175.1],\n",
       "       [ 89.7],\n",
       "       [239.9],\n",
       "       [227.2],\n",
       "       [ 66.9],\n",
       "       [199.8],\n",
       "       [100.4],\n",
       "       [216.4],\n",
       "       [182.6],\n",
       "       [262.7],\n",
       "       [198.9],\n",
       "       [  7.3],\n",
       "       [136.2],\n",
       "       [210.8],\n",
       "       [210.7],\n",
       "       [ 53.5],\n",
       "       [261.3],\n",
       "       [239.3],\n",
       "       [102.7],\n",
       "       [131.1],\n",
       "       [ 69. ],\n",
       "       [ 31.5],\n",
       "       [139.3],\n",
       "       [237.4],\n",
       "       [216.8],\n",
       "       [199.1],\n",
       "       [109.8],\n",
       "       [ 26.8],\n",
       "       [129.4],\n",
       "       [213.4],\n",
       "       [ 16.9],\n",
       "       [ 27.5],\n",
       "       [120.5],\n",
       "       [  5.4],\n",
       "       [116. ],\n",
       "       [ 76.4],\n",
       "       [239.8],\n",
       "       [ 75.3],\n",
       "       [ 68.4],\n",
       "       [213.5],\n",
       "       [193.2],\n",
       "       [ 76.3],\n",
       "       [110.7],\n",
       "       [ 88.3],\n",
       "       [109.8],\n",
       "       [134.3],\n",
       "       [ 28.6],\n",
       "       [217.7],\n",
       "       [250.9],\n",
       "       [107.4],\n",
       "       [163.3],\n",
       "       [197.6],\n",
       "       [184.9],\n",
       "       [289.7],\n",
       "       [135.2],\n",
       "       [222.4],\n",
       "       [296.4],\n",
       "       [280.2],\n",
       "       [187.9],\n",
       "       [238.2],\n",
       "       [137.9],\n",
       "       [ 25. ],\n",
       "       [ 90.4],\n",
       "       [ 13.1],\n",
       "       [255.4],\n",
       "       [225.8],\n",
       "       [241.7],\n",
       "       [175.7],\n",
       "       [209.6],\n",
       "       [ 78.2],\n",
       "       [ 75.1],\n",
       "       [139.2],\n",
       "       [ 76.4],\n",
       "       [125.7],\n",
       "       [ 19.4],\n",
       "       [141.3],\n",
       "       [ 18.8],\n",
       "       [224. ],\n",
       "       [123.1],\n",
       "       [229.5],\n",
       "       [ 87.2],\n",
       "       [  7.8],\n",
       "       [ 80.2],\n",
       "       [220.3],\n",
       "       [ 59.6],\n",
       "       [  0.7],\n",
       "       [265.2],\n",
       "       [  8.4],\n",
       "       [219.8],\n",
       "       [ 36.9],\n",
       "       [ 48.3],\n",
       "       [ 25.6],\n",
       "       [273.7],\n",
       "       [ 43. ],\n",
       "       [184.9],\n",
       "       [ 73.4],\n",
       "       [193.7],\n",
       "       [220.5],\n",
       "       [104.6],\n",
       "       [ 96.2],\n",
       "       [140.3],\n",
       "       [240.1],\n",
       "       [243.2],\n",
       "       [ 38. ],\n",
       "       [ 44.7],\n",
       "       [280.7],\n",
       "       [121. ],\n",
       "       [197.6],\n",
       "       [171.3],\n",
       "       [187.8],\n",
       "       [  4.1],\n",
       "       [ 93.9],\n",
       "       [149.8],\n",
       "       [ 11.7],\n",
       "       [131.7],\n",
       "       [172.5],\n",
       "       [ 85.7],\n",
       "       [188.4],\n",
       "       [163.5],\n",
       "       [117.2],\n",
       "       [234.5],\n",
       "       [ 17.9],\n",
       "       [206.8],\n",
       "       [215.4],\n",
       "       [284.3],\n",
       "       [ 50. ],\n",
       "       [164.5],\n",
       "       [ 19.6],\n",
       "       [168.4],\n",
       "       [222.4],\n",
       "       [276.9],\n",
       "       [248.4],\n",
       "       [170.2],\n",
       "       [276.7],\n",
       "       [165.6],\n",
       "       [156.6],\n",
       "       [218.5],\n",
       "       [ 56.2],\n",
       "       [287.6],\n",
       "       [253.8],\n",
       "       [205. ],\n",
       "       [139.5],\n",
       "       [191.1],\n",
       "       [286. ],\n",
       "       [ 18.7],\n",
       "       [ 39.5],\n",
       "       [ 75.5],\n",
       "       [ 17.2],\n",
       "       [166.8],\n",
       "       [149.7],\n",
       "       [ 38.2],\n",
       "       [ 94.2],\n",
       "       [177. ],\n",
       "       [283.6],\n",
       "       [232.1]])"
      ]
     },
     "execution_count": 102,
     "metadata": {},
     "output_type": "execute_result"
    }
   ],
   "source": [
    "X = np.array(advertising.TV).reshape(-1,1)\n",
    "X"
   ]
  },
  {
   "cell_type": "code",
   "execution_count": 103,
   "metadata": {},
   "outputs": [],
   "source": [
    "Y = advertising.sales"
   ]
  },
  {
   "cell_type": "code",
   "execution_count": 104,
   "metadata": {},
   "outputs": [
    {
     "data": {
      "text/plain": [
       "0      22.1\n",
       "1      10.4\n",
       "2       9.3\n",
       "3      18.5\n",
       "4      12.9\n",
       "       ... \n",
       "195     7.6\n",
       "196     9.7\n",
       "197    12.8\n",
       "198    25.5\n",
       "199    13.4\n",
       "Name: sales, Length: 200, dtype: float64"
      ]
     },
     "execution_count": 104,
     "metadata": {},
     "output_type": "execute_result"
    }
   ],
   "source": [
    "Y"
   ]
  },
  {
   "cell_type": "code",
   "execution_count": 105,
   "metadata": {},
   "outputs": [
    {
     "name": "stdout",
     "output_type": "stream",
     "text": [
      "7.032593549127695\n",
      "[0.04753664]\n"
     ]
    }
   ],
   "source": [
    "# Regression coefficients (Ordinary Least Squares)\n",
    "regr = skl_lm.LinearRegression()\n",
    "\n",
    "regr.fit(X,Y)\n",
    "print(regr.intercept_)\n",
    "print(regr.coef_)"
   ]
  },
  {
   "cell_type": "code",
   "execution_count": 106,
   "metadata": {},
   "outputs": [],
   "source": [
    "Sales_pred = regr.predict(X)"
   ]
  },
  {
   "cell_type": "code",
   "execution_count": 111,
   "metadata": {},
   "outputs": [
    {
     "data": {
      "text/plain": [
       "array([17.97077451,  9.14797405,  7.85022376, 14.23439457, 15.62721814,\n",
       "        7.44616232,  9.76595037, 12.74649773,  7.44140866, 16.53041431,\n",
       "       10.17476548, 17.23871025,  8.16396559, 11.66741599, 16.73482186,\n",
       "       16.32125309, 10.25557777, 20.40940417, 10.32212907, 14.03474068,\n",
       "       17.41459582, 18.31779199,  7.6600772 , 17.88520856,  9.99412625,\n",
       "       19.52997632, 13.82557947, 18.44614092, 18.85970969, 10.38868036,\n",
       "       20.95607553, 12.39948025, 11.653155  , 19.65832525, 11.58185004,\n",
       "       20.85149492, 19.72012288, 10.58358059,  9.08142275, 17.87094757,\n",
       "       16.65876324, 15.44657891, 20.98935118, 16.86792445,  8.22576322,\n",
       "       15.35625929, 11.2966302 , 18.43663359, 17.83291826, 10.21279479,\n",
       "       16.53041431, 11.80527225, 17.31952254, 15.71278409, 19.52046899,\n",
       "       16.48763133,  7.37961102, 13.50708398, 17.05331735, 17.04856369,\n",
       "        9.57580381, 19.45391769, 18.4081116 , 11.91460652, 13.26464711,\n",
       "       10.31262174,  8.52999772, 13.65444756, 18.31779199, 17.3385372 ,\n",
       "       16.49713866, 12.25211667,  8.30657551, 13.18383482, 17.17691262,\n",
       "        7.83596277,  8.33985116, 12.76075872,  7.28929141, 12.54684384,\n",
       "       10.66439288, 18.43187992, 10.61210257, 10.28409975, 17.18166628,\n",
       "       16.21667248, 10.65963921, 12.29489965, 11.2300789 , 12.25211667,\n",
       "       13.41676436,  8.39214147, 17.38132017, 18.95953663, 12.13802873,\n",
       "       14.79532693, 16.4258337 , 15.82211837, 20.80395828, 13.45954734,\n",
       "       17.60474238, 21.12245377, 20.3523602 , 15.96472829, 18.3558213 ,\n",
       "       13.58789626,  8.22100956, 11.32990584,  7.65532354, 19.17345152,\n",
       "       17.76636696, 18.52219954, 15.38478127, 16.99627338, 10.74995883,\n",
       "       10.60259525, 13.6496939 , 10.66439288, 13.00794925,  7.95480437,\n",
       "       13.74952084,  7.92628239, 17.68080101, 12.88435399, 17.94225253,\n",
       "       11.17778859,  7.40337934, 10.84503211, 17.50491544,  9.86577732,\n",
       "        7.0658692 , 19.63931059,  7.43190133, 17.48114712,  8.78669558,\n",
       "        9.32861328,  8.24953154, 20.04337204,  9.07666909, 15.82211837,\n",
       "       10.52178296, 16.2404408 , 17.51442276, 12.00492614, 11.60561836,\n",
       "       13.7019842 , 18.44614092, 18.5935045 ,  8.83898589,  9.15748138,\n",
       "       20.37612852, 12.78452704, 16.4258337 , 15.17562006, 15.95997462,\n",
       "        7.22749377, 11.49628409, 14.15358229,  7.58877224, 13.29316909,\n",
       "       15.23266402, 11.10648363, 15.98849661, 14.80483426, 12.60388781,\n",
       "       18.17993573,  7.88349941, 16.86317079, 17.2719859 , 20.54726042,\n",
       "        9.40942557, 14.8523709 ,  7.9643117 , 15.0377638 , 17.60474238,\n",
       "       20.19548929, 18.84069503, 15.12332975, 20.18598196, 14.9046612 ,\n",
       "       14.47683144, 17.41934948,  9.70415274, 20.70413134, 19.09739289,\n",
       "       16.77760484, 13.66395489, 16.11684554, 20.62807271,  7.92152873,\n",
       "        8.91029085, 10.6216099 ,  7.85022376, 14.96170517, 14.14882862,\n",
       "        8.84849321, 11.51054508, 15.44657891, 20.51398478, 18.06584779])"
      ]
     },
     "execution_count": 111,
     "metadata": {},
     "output_type": "execute_result"
    }
   ],
   "source": [
    "Sales_pred"
   ]
  },
  {
   "cell_type": "code",
   "execution_count": 112,
   "metadata": {},
   "outputs": [
    {
     "data": {
      "text/plain": [
       "0      22.1\n",
       "1      10.4\n",
       "2       9.3\n",
       "3      18.5\n",
       "4      12.9\n",
       "       ... \n",
       "195     7.6\n",
       "196     9.7\n",
       "197    12.8\n",
       "198    25.5\n",
       "199    13.4\n",
       "Name: sales, Length: 200, dtype: float64"
      ]
     },
     "execution_count": 112,
     "metadata": {},
     "output_type": "execute_result"
    }
   ],
   "source": [
    "Y"
   ]
  },
  {
   "cell_type": "code",
   "execution_count": 113,
   "metadata": {},
   "outputs": [
    {
     "data": {
      "text/plain": [
       "0.611875050850071"
      ]
     },
     "execution_count": 113,
     "metadata": {},
     "output_type": "execute_result"
    }
   ],
   "source": [
    "r2_score(Y, Sales_pred)"
   ]
  },
  {
   "cell_type": "code",
   "execution_count": null,
   "metadata": {},
   "outputs": [],
   "source": []
  },
  {
   "cell_type": "markdown",
   "metadata": {},
   "source": [
    "## Multiple Linear Regression"
   ]
  },
  {
   "cell_type": "code",
   "execution_count": 15,
   "metadata": {},
   "outputs": [
    {
     "data": {
      "text/html": [
       "<table class=\"simpletable\">\n",
       "<tr>\n",
       "      <td></td>         <th>coef</th>     <th>std err</th>      <th>t</th>      <th>P>|t|</th>  <th>[0.025</th>    <th>0.975]</th>  \n",
       "</tr>\n",
       "<tr>\n",
       "  <th>Intercept</th> <td>    9.3116</td> <td>    0.563</td> <td>   16.542</td> <td> 0.000</td> <td>    8.202</td> <td>   10.422</td>\n",
       "</tr>\n",
       "<tr>\n",
       "  <th>radio</th>     <td>    0.2025</td> <td>    0.020</td> <td>    9.921</td> <td> 0.000</td> <td>    0.162</td> <td>    0.243</td>\n",
       "</tr>\n",
       "</table>"
      ],
      "text/plain": [
       "<class 'statsmodels.iolib.table.SimpleTable'>"
      ]
     },
     "execution_count": 15,
     "metadata": {},
     "output_type": "execute_result"
    }
   ],
   "source": [
    "est = smf.ols('sales ~ radio', advertising).fit()\n",
    "est.summary().tables[1]"
   ]
  },
  {
   "cell_type": "code",
   "execution_count": 17,
   "metadata": {},
   "outputs": [
    {
     "data": {
      "text/html": [
       "<table class=\"simpletable\">\n",
       "<tr>\n",
       "      <td></td>         <th>coef</th>     <th>std err</th>      <th>t</th>      <th>P>|t|</th>  <th>[0.025</th>    <th>0.975]</th>  \n",
       "</tr>\n",
       "<tr>\n",
       "  <th>Intercept</th> <td>   12.3514</td> <td>    0.621</td> <td>   19.876</td> <td> 0.000</td> <td>   11.126</td> <td>   13.577</td>\n",
       "</tr>\n",
       "<tr>\n",
       "  <th>newspaper</th> <td>    0.0547</td> <td>    0.017</td> <td>    3.300</td> <td> 0.001</td> <td>    0.022</td> <td>    0.087</td>\n",
       "</tr>\n",
       "</table>"
      ],
      "text/plain": [
       "<class 'statsmodels.iolib.table.SimpleTable'>"
      ]
     },
     "execution_count": 17,
     "metadata": {},
     "output_type": "execute_result"
    }
   ],
   "source": [
    "est = smf.ols('sales ~ newspaper', advertising).fit()\n",
    "est.summary().tables[1]"
   ]
  },
  {
   "cell_type": "code",
   "execution_count": 19,
   "metadata": {},
   "outputs": [
    {
     "data": {
      "text/html": [
       "<table class=\"simpletable\">\n",
       "<caption>OLS Regression Results</caption>\n",
       "<tr>\n",
       "  <th>Dep. Variable:</th>          <td>sales</td>      <th>  R-squared:         </th> <td>   0.897</td>\n",
       "</tr>\n",
       "<tr>\n",
       "  <th>Model:</th>                   <td>OLS</td>       <th>  Adj. R-squared:    </th> <td>   0.896</td>\n",
       "</tr>\n",
       "<tr>\n",
       "  <th>Method:</th>             <td>Least Squares</td>  <th>  F-statistic:       </th> <td>   570.3</td>\n",
       "</tr>\n",
       "<tr>\n",
       "  <th>Date:</th>             <td>Sat, 28 Jan 2023</td> <th>  Prob (F-statistic):</th> <td>1.58e-96</td>\n",
       "</tr>\n",
       "<tr>\n",
       "  <th>Time:</th>                 <td>01:19:34</td>     <th>  Log-Likelihood:    </th> <td> -386.18</td>\n",
       "</tr>\n",
       "<tr>\n",
       "  <th>No. Observations:</th>      <td>   200</td>      <th>  AIC:               </th> <td>   780.4</td>\n",
       "</tr>\n",
       "<tr>\n",
       "  <th>Df Residuals:</th>          <td>   196</td>      <th>  BIC:               </th> <td>   793.6</td>\n",
       "</tr>\n",
       "<tr>\n",
       "  <th>Df Model:</th>              <td>     3</td>      <th>                     </th>     <td> </td>   \n",
       "</tr>\n",
       "<tr>\n",
       "  <th>Covariance Type:</th>      <td>nonrobust</td>    <th>                     </th>     <td> </td>   \n",
       "</tr>\n",
       "</table>\n",
       "<table class=\"simpletable\">\n",
       "<tr>\n",
       "      <td></td>         <th>coef</th>     <th>std err</th>      <th>t</th>      <th>P>|t|</th>  <th>[0.025</th>    <th>0.975]</th>  \n",
       "</tr>\n",
       "<tr>\n",
       "  <th>Intercept</th> <td>    2.9389</td> <td>    0.312</td> <td>    9.422</td> <td> 0.000</td> <td>    2.324</td> <td>    3.554</td>\n",
       "</tr>\n",
       "<tr>\n",
       "  <th>TV</th>        <td>    0.0458</td> <td>    0.001</td> <td>   32.809</td> <td> 0.000</td> <td>    0.043</td> <td>    0.049</td>\n",
       "</tr>\n",
       "<tr>\n",
       "  <th>radio</th>     <td>    0.1885</td> <td>    0.009</td> <td>   21.893</td> <td> 0.000</td> <td>    0.172</td> <td>    0.206</td>\n",
       "</tr>\n",
       "<tr>\n",
       "  <th>newspaper</th> <td>   -0.0010</td> <td>    0.006</td> <td>   -0.177</td> <td> 0.860</td> <td>   -0.013</td> <td>    0.011</td>\n",
       "</tr>\n",
       "</table>\n",
       "<table class=\"simpletable\">\n",
       "<tr>\n",
       "  <th>Omnibus:</th>       <td>60.414</td> <th>  Durbin-Watson:     </th> <td>   2.084</td>\n",
       "</tr>\n",
       "<tr>\n",
       "  <th>Prob(Omnibus):</th> <td> 0.000</td> <th>  Jarque-Bera (JB):  </th> <td> 151.241</td>\n",
       "</tr>\n",
       "<tr>\n",
       "  <th>Skew:</th>          <td>-1.327</td> <th>  Prob(JB):          </th> <td>1.44e-33</td>\n",
       "</tr>\n",
       "<tr>\n",
       "  <th>Kurtosis:</th>      <td> 6.332</td> <th>  Cond. No.          </th> <td>    454.</td>\n",
       "</tr>\n",
       "</table><br/><br/>Warnings:<br/>[1] Standard Errors assume that the covariance matrix of the errors is correctly specified."
      ],
      "text/plain": [
       "<class 'statsmodels.iolib.summary.Summary'>\n",
       "\"\"\"\n",
       "                            OLS Regression Results                            \n",
       "==============================================================================\n",
       "Dep. Variable:                  sales   R-squared:                       0.897\n",
       "Model:                            OLS   Adj. R-squared:                  0.896\n",
       "Method:                 Least Squares   F-statistic:                     570.3\n",
       "Date:                Sat, 28 Jan 2023   Prob (F-statistic):           1.58e-96\n",
       "Time:                        01:19:34   Log-Likelihood:                -386.18\n",
       "No. Observations:                 200   AIC:                             780.4\n",
       "Df Residuals:                     196   BIC:                             793.6\n",
       "Df Model:                           3                                         \n",
       "Covariance Type:            nonrobust                                         \n",
       "==============================================================================\n",
       "                 coef    std err          t      P>|t|      [0.025      0.975]\n",
       "------------------------------------------------------------------------------\n",
       "Intercept      2.9389      0.312      9.422      0.000       2.324       3.554\n",
       "TV             0.0458      0.001     32.809      0.000       0.043       0.049\n",
       "radio          0.1885      0.009     21.893      0.000       0.172       0.206\n",
       "newspaper     -0.0010      0.006     -0.177      0.860      -0.013       0.011\n",
       "==============================================================================\n",
       "Omnibus:                       60.414   Durbin-Watson:                   2.084\n",
       "Prob(Omnibus):                  0.000   Jarque-Bera (JB):              151.241\n",
       "Skew:                          -1.327   Prob(JB):                     1.44e-33\n",
       "Kurtosis:                       6.332   Cond. No.                         454.\n",
       "==============================================================================\n",
       "\n",
       "Warnings:\n",
       "[1] Standard Errors assume that the covariance matrix of the errors is correctly specified.\n",
       "\"\"\""
      ]
     },
     "execution_count": 19,
     "metadata": {},
     "output_type": "execute_result"
    }
   ],
   "source": [
    "est = smf.ols('sales ~ TV + radio + newspaper', advertising).fit()\n",
    "est.summary()"
   ]
  },
  {
   "cell_type": "code",
   "execution_count": 20,
   "metadata": {},
   "outputs": [
    {
     "data": {
      "text/html": [
       "<div>\n",
       "<style scoped>\n",
       "    .dataframe tbody tr th:only-of-type {\n",
       "        vertical-align: middle;\n",
       "    }\n",
       "\n",
       "    .dataframe tbody tr th {\n",
       "        vertical-align: top;\n",
       "    }\n",
       "\n",
       "    .dataframe thead th {\n",
       "        text-align: right;\n",
       "    }\n",
       "</style>\n",
       "<table border=\"1\" class=\"dataframe\">\n",
       "  <thead>\n",
       "    <tr style=\"text-align: right;\">\n",
       "      <th></th>\n",
       "      <th>TV</th>\n",
       "      <th>radio</th>\n",
       "      <th>newspaper</th>\n",
       "      <th>sales</th>\n",
       "    </tr>\n",
       "  </thead>\n",
       "  <tbody>\n",
       "    <tr>\n",
       "      <th>TV</th>\n",
       "      <td>1.000000</td>\n",
       "      <td>0.054809</td>\n",
       "      <td>0.056648</td>\n",
       "      <td>0.782224</td>\n",
       "    </tr>\n",
       "    <tr>\n",
       "      <th>radio</th>\n",
       "      <td>0.054809</td>\n",
       "      <td>1.000000</td>\n",
       "      <td>0.354104</td>\n",
       "      <td>0.576223</td>\n",
       "    </tr>\n",
       "    <tr>\n",
       "      <th>newspaper</th>\n",
       "      <td>0.056648</td>\n",
       "      <td>0.354104</td>\n",
       "      <td>1.000000</td>\n",
       "      <td>0.228299</td>\n",
       "    </tr>\n",
       "    <tr>\n",
       "      <th>sales</th>\n",
       "      <td>0.782224</td>\n",
       "      <td>0.576223</td>\n",
       "      <td>0.228299</td>\n",
       "      <td>1.000000</td>\n",
       "    </tr>\n",
       "  </tbody>\n",
       "</table>\n",
       "</div>"
      ],
      "text/plain": [
       "                 TV     radio  newspaper     sales\n",
       "TV         1.000000  0.054809   0.056648  0.782224\n",
       "radio      0.054809  1.000000   0.354104  0.576223\n",
       "newspaper  0.056648  0.354104   1.000000  0.228299\n",
       "sales      0.782224  0.576223   0.228299  1.000000"
      ]
     },
     "execution_count": 20,
     "metadata": {},
     "output_type": "execute_result"
    }
   ],
   "source": [
    "advertising.corr()"
   ]
  },
  {
   "cell_type": "code",
   "execution_count": 114,
   "metadata": {},
   "outputs": [
    {
     "data": {
      "text/plain": [
       "array([[ 37.8, 230.1],\n",
       "       [ 39.3,  44.5],\n",
       "       [ 45.9,  17.2],\n",
       "       [ 41.3, 151.5],\n",
       "       [ 10.8, 180.8],\n",
       "       [ 48.9,   8.7],\n",
       "       [ 32.8,  57.5],\n",
       "       [ 19.6, 120.2],\n",
       "       [  2.1,   8.6],\n",
       "       [  2.6, 199.8],\n",
       "       [  5.8,  66.1],\n",
       "       [ 24. , 214.7],\n",
       "       [ 35.1,  23.8],\n",
       "       [  7.6,  97.5],\n",
       "       [ 32.9, 204.1],\n",
       "       [ 47.7, 195.4],\n",
       "       [ 36.6,  67.8],\n",
       "       [ 39.6, 281.4],\n",
       "       [ 20.5,  69.2],\n",
       "       [ 23.9, 147.3],\n",
       "       [ 27.7, 218.4],\n",
       "       [  5.1, 237.4],\n",
       "       [ 15.9,  13.2],\n",
       "       [ 16.9, 228.3],\n",
       "       [ 12.6,  62.3],\n",
       "       [  3.5, 262.9],\n",
       "       [ 29.3, 142.9],\n",
       "       [ 16.7, 240.1],\n",
       "       [ 27.1, 248.8],\n",
       "       [ 16. ,  70.6],\n",
       "       [ 28.3, 292.9],\n",
       "       [ 17.4, 112.9],\n",
       "       [  1.5,  97.2],\n",
       "       [ 20. , 265.6],\n",
       "       [  1.4,  95.7],\n",
       "       [  4.1, 290.7],\n",
       "       [ 43.8, 266.9],\n",
       "       [ 49.4,  74.7],\n",
       "       [ 26.7,  43.1],\n",
       "       [ 37.7, 228. ],\n",
       "       [ 22.3, 202.5],\n",
       "       [ 33.4, 177. ],\n",
       "       [ 27.7, 293.6],\n",
       "       [  8.4, 206.9],\n",
       "       [ 25.7,  25.1],\n",
       "       [ 22.5, 175.1],\n",
       "       [  9.9,  89.7],\n",
       "       [ 41.5, 239.9],\n",
       "       [ 15.8, 227.2],\n",
       "       [ 11.7,  66.9],\n",
       "       [  3.1, 199.8],\n",
       "       [  9.6, 100.4],\n",
       "       [ 41.7, 216.4],\n",
       "       [ 46.2, 182.6],\n",
       "       [ 28.8, 262.7],\n",
       "       [ 49.4, 198.9],\n",
       "       [ 28.1,   7.3],\n",
       "       [ 19.2, 136.2],\n",
       "       [ 49.6, 210.8],\n",
       "       [ 29.5, 210.7],\n",
       "       [  2. ,  53.5],\n",
       "       [ 42.7, 261.3],\n",
       "       [ 15.5, 239.3],\n",
       "       [ 29.6, 102.7],\n",
       "       [ 42.8, 131.1],\n",
       "       [  9.3,  69. ],\n",
       "       [ 24.6,  31.5],\n",
       "       [ 14.5, 139.3],\n",
       "       [ 27.5, 237.4],\n",
       "       [ 43.9, 216.8],\n",
       "       [ 30.6, 199.1],\n",
       "       [ 14.3, 109.8],\n",
       "       [ 33. ,  26.8],\n",
       "       [  5.7, 129.4],\n",
       "       [ 24.6, 213.4],\n",
       "       [ 43.7,  16.9],\n",
       "       [  1.6,  27.5],\n",
       "       [ 28.5, 120.5],\n",
       "       [ 29.9,   5.4],\n",
       "       [  7.7, 116. ],\n",
       "       [ 26.7,  76.4],\n",
       "       [  4.1, 239.8],\n",
       "       [ 20.3,  75.3],\n",
       "       [ 44.5,  68.4],\n",
       "       [ 43. , 213.5],\n",
       "       [ 18.4, 193.2],\n",
       "       [ 27.5,  76.3],\n",
       "       [ 40.6, 110.7],\n",
       "       [ 25.5,  88.3],\n",
       "       [ 47.8, 109.8],\n",
       "       [  4.9, 134.3],\n",
       "       [  1.5,  28.6],\n",
       "       [ 33.5, 217.7],\n",
       "       [ 36.5, 250.9],\n",
       "       [ 14. , 107.4],\n",
       "       [ 31.6, 163.3],\n",
       "       [  3.5, 197.6],\n",
       "       [ 21. , 184.9],\n",
       "       [ 42.3, 289.7],\n",
       "       [ 41.7, 135.2],\n",
       "       [  4.3, 222.4],\n",
       "       [ 36.3, 296.4],\n",
       "       [ 10.1, 280.2],\n",
       "       [ 17.2, 187.9],\n",
       "       [ 34.3, 238.2],\n",
       "       [ 46.4, 137.9],\n",
       "       [ 11. ,  25. ],\n",
       "       [  0.3,  90.4],\n",
       "       [  0.4,  13.1],\n",
       "       [ 26.9, 255.4],\n",
       "       [  8.2, 225.8],\n",
       "       [ 38. , 241.7],\n",
       "       [ 15.4, 175.7],\n",
       "       [ 20.6, 209.6],\n",
       "       [ 46.8,  78.2],\n",
       "       [ 35. ,  75.1],\n",
       "       [ 14.3, 139.2],\n",
       "       [  0.8,  76.4],\n",
       "       [ 36.9, 125.7],\n",
       "       [ 16. ,  19.4],\n",
       "       [ 26.8, 141.3],\n",
       "       [ 21.7,  18.8],\n",
       "       [  2.4, 224. ],\n",
       "       [ 34.6, 123.1],\n",
       "       [ 32.3, 229.5],\n",
       "       [ 11.8,  87.2],\n",
       "       [ 38.9,   7.8],\n",
       "       [  0. ,  80.2],\n",
       "       [ 49. , 220.3],\n",
       "       [ 12. ,  59.6],\n",
       "       [ 39.6,   0.7],\n",
       "       [  2.9, 265.2],\n",
       "       [ 27.2,   8.4],\n",
       "       [ 33.5, 219.8],\n",
       "       [ 38.6,  36.9],\n",
       "       [ 47. ,  48.3],\n",
       "       [ 39. ,  25.6],\n",
       "       [ 28.9, 273.7],\n",
       "       [ 25.9,  43. ],\n",
       "       [ 43.9, 184.9],\n",
       "       [ 17. ,  73.4],\n",
       "       [ 35.4, 193.7],\n",
       "       [ 33.2, 220.5],\n",
       "       [  5.7, 104.6],\n",
       "       [ 14.8,  96.2],\n",
       "       [  1.9, 140.3],\n",
       "       [  7.3, 240.1],\n",
       "       [ 49. , 243.2],\n",
       "       [ 40.3,  38. ],\n",
       "       [ 25.8,  44.7],\n",
       "       [ 13.9, 280.7],\n",
       "       [  8.4, 121. ],\n",
       "       [ 23.3, 197.6],\n",
       "       [ 39.7, 171.3],\n",
       "       [ 21.1, 187.8],\n",
       "       [ 11.6,   4.1],\n",
       "       [ 43.5,  93.9],\n",
       "       [  1.3, 149.8],\n",
       "       [ 36.9,  11.7],\n",
       "       [ 18.4, 131.7],\n",
       "       [ 18.1, 172.5],\n",
       "       [ 35.8,  85.7],\n",
       "       [ 18.1, 188.4],\n",
       "       [ 36.8, 163.5],\n",
       "       [ 14.7, 117.2],\n",
       "       [  3.4, 234.5],\n",
       "       [ 37.6,  17.9],\n",
       "       [  5.2, 206.8],\n",
       "       [ 23.6, 215.4],\n",
       "       [ 10.6, 284.3],\n",
       "       [ 11.6,  50. ],\n",
       "       [ 20.9, 164.5],\n",
       "       [ 20.1,  19.6],\n",
       "       [  7.1, 168.4],\n",
       "       [  3.4, 222.4],\n",
       "       [ 48.9, 276.9],\n",
       "       [ 30.2, 248.4],\n",
       "       [  7.8, 170.2],\n",
       "       [  2.3, 276.7],\n",
       "       [ 10. , 165.6],\n",
       "       [  2.6, 156.6],\n",
       "       [  5.4, 218.5],\n",
       "       [  5.7,  56.2],\n",
       "       [ 43. , 287.6],\n",
       "       [ 21.3, 253.8],\n",
       "       [ 45.1, 205. ],\n",
       "       [  2.1, 139.5],\n",
       "       [ 28.7, 191.1],\n",
       "       [ 13.9, 286. ],\n",
       "       [ 12.1,  18.7],\n",
       "       [ 41.1,  39.5],\n",
       "       [ 10.8,  75.5],\n",
       "       [  4.1,  17.2],\n",
       "       [ 42. , 166.8],\n",
       "       [ 35.6, 149.7],\n",
       "       [  3.7,  38.2],\n",
       "       [  4.9,  94.2],\n",
       "       [  9.3, 177. ],\n",
       "       [ 42. , 283.6],\n",
       "       [  8.6, 232.1]])"
      ]
     },
     "execution_count": 114,
     "metadata": {},
     "output_type": "execute_result"
    }
   ],
   "source": [
    "regr = skl_lm.LinearRegression()\n",
    "\n",
    "X = advertising[['radio', 'TV']].values\n",
    "X"
   ]
  },
  {
   "cell_type": "code",
   "execution_count": 115,
   "metadata": {},
   "outputs": [
    {
     "name": "stdout",
     "output_type": "stream",
     "text": [
      "[0.18799423 0.04575482]\n",
      "2.921099912405138\n"
     ]
    }
   ],
   "source": [
    "y = advertising.sales\n",
    "\n",
    "regr.fit(X,y)\n",
    "print(regr.coef_)\n",
    "print(regr.intercept_)"
   ]
  },
  {
   "cell_type": "code",
   "execution_count": 29,
   "metadata": {},
   "outputs": [
    {
     "data": {
      "text/html": [
       "<div>\n",
       "<style scoped>\n",
       "    .dataframe tbody tr th:only-of-type {\n",
       "        vertical-align: middle;\n",
       "    }\n",
       "\n",
       "    .dataframe tbody tr th {\n",
       "        vertical-align: top;\n",
       "    }\n",
       "\n",
       "    .dataframe thead th {\n",
       "        text-align: right;\n",
       "    }\n",
       "</style>\n",
       "<table border=\"1\" class=\"dataframe\">\n",
       "  <thead>\n",
       "    <tr style=\"text-align: right;\">\n",
       "      <th></th>\n",
       "      <th>radio</th>\n",
       "      <th>TV</th>\n",
       "    </tr>\n",
       "  </thead>\n",
       "  <tbody>\n",
       "    <tr>\n",
       "      <th>count</th>\n",
       "      <td>200.000000</td>\n",
       "      <td>200.000000</td>\n",
       "    </tr>\n",
       "    <tr>\n",
       "      <th>mean</th>\n",
       "      <td>23.264000</td>\n",
       "      <td>147.042500</td>\n",
       "    </tr>\n",
       "    <tr>\n",
       "      <th>std</th>\n",
       "      <td>14.846809</td>\n",
       "      <td>85.854236</td>\n",
       "    </tr>\n",
       "    <tr>\n",
       "      <th>min</th>\n",
       "      <td>0.000000</td>\n",
       "      <td>0.700000</td>\n",
       "    </tr>\n",
       "    <tr>\n",
       "      <th>25%</th>\n",
       "      <td>9.975000</td>\n",
       "      <td>74.375000</td>\n",
       "    </tr>\n",
       "    <tr>\n",
       "      <th>50%</th>\n",
       "      <td>22.900000</td>\n",
       "      <td>149.750000</td>\n",
       "    </tr>\n",
       "    <tr>\n",
       "      <th>75%</th>\n",
       "      <td>36.525000</td>\n",
       "      <td>218.825000</td>\n",
       "    </tr>\n",
       "    <tr>\n",
       "      <th>max</th>\n",
       "      <td>49.600000</td>\n",
       "      <td>296.400000</td>\n",
       "    </tr>\n",
       "  </tbody>\n",
       "</table>\n",
       "</div>"
      ],
      "text/plain": [
       "            radio          TV\n",
       "count  200.000000  200.000000\n",
       "mean    23.264000  147.042500\n",
       "std     14.846809   85.854236\n",
       "min      0.000000    0.700000\n",
       "25%      9.975000   74.375000\n",
       "50%     22.900000  149.750000\n",
       "75%     36.525000  218.825000\n",
       "max     49.600000  296.400000"
      ]
     },
     "execution_count": 29,
     "metadata": {},
     "output_type": "execute_result"
    }
   ],
   "source": [
    "# What are the min/max values of Radio & TV?\n",
    "# Use these values to set up the grid for plotting.\n",
    "advertising[['radio', 'TV']].describe()"
   ]
  },
  {
   "cell_type": "code",
   "execution_count": 35,
   "metadata": {},
   "outputs": [
    {
     "data": {
      "text/html": [
       "<table class=\"simpletable\">\n",
       "<tr>\n",
       "      <td></td>         <th>coef</th>     <th>std err</th>      <th>t</th>      <th>P>|t|</th>  <th>[0.025</th>    <th>0.975]</th>  \n",
       "</tr>\n",
       "<tr>\n",
       "  <th>Intercept</th> <td>    6.7502</td> <td>    0.248</td> <td>   27.233</td> <td> 0.000</td> <td>    6.261</td> <td>    7.239</td>\n",
       "</tr>\n",
       "<tr>\n",
       "  <th>TV</th>        <td>    0.0191</td> <td>    0.002</td> <td>   12.699</td> <td> 0.000</td> <td>    0.016</td> <td>    0.022</td>\n",
       "</tr>\n",
       "<tr>\n",
       "  <th>radio</th>     <td>    0.0289</td> <td>    0.009</td> <td>    3.241</td> <td> 0.001</td> <td>    0.011</td> <td>    0.046</td>\n",
       "</tr>\n",
       "<tr>\n",
       "  <th>TV:radio</th>  <td>    0.0011</td> <td> 5.24e-05</td> <td>   20.727</td> <td> 0.000</td> <td>    0.001</td> <td>    0.001</td>\n",
       "</tr>\n",
       "</table>"
      ],
      "text/plain": [
       "<class 'statsmodels.iolib.table.SimpleTable'>"
      ]
     },
     "execution_count": 35,
     "metadata": {},
     "output_type": "execute_result"
    }
   ],
   "source": [
    "est = smf.ols('sales ~ TV + radio + TV*radio', advertising).fit()\n",
    "est.summary().tables[1]"
   ]
  },
  {
   "cell_type": "code",
   "execution_count": 36,
   "metadata": {},
   "outputs": [],
   "source": [
    "from statsmodels.stats.outliers_influence import variance_inflation_factor"
   ]
  },
  {
   "cell_type": "code",
   "execution_count": 124,
   "metadata": {},
   "outputs": [
    {
     "name": "stdout",
     "output_type": "stream",
     "text": [
      "TV  = 2.486771835198193\n",
      "radio  = 3.285462100162896\n",
      "newspaper  = 3.0552445106573853\n"
     ]
    }
   ],
   "source": [
    "X = advertising[[\"TV\", \"radio\", \"newspaper\"]]\n",
    "for i in range(3):\n",
    "    print(X.columns[i], \" = \" , end = \"\")\n",
    "    print(variance_inflation_factor(X.values, i)) "
   ]
  },
  {
   "cell_type": "code",
   "execution_count": 117,
   "metadata": {},
   "outputs": [
    {
     "data": {
      "text/plain": [
       "Index(['TV', 'radio', 'newspaper'], dtype='object')"
      ]
     },
     "execution_count": 117,
     "metadata": {},
     "output_type": "execute_result"
    }
   ],
   "source": [
    "X.columns"
   ]
  },
  {
   "cell_type": "code",
   "execution_count": 123,
   "metadata": {},
   "outputs": [
    {
     "name": "stdout",
     "output_type": "stream",
     "text": [
      "TV  = 2.238084900165853\n",
      "radio  = 2.238084900165853\n"
     ]
    }
   ],
   "source": [
    "X = advertising[[\"TV\", \"radio\"]]\n",
    "for i in range(2):\n",
    "    print(X.columns[i], \" = \" , end = \"\")\n",
    "    print(variance_inflation_factor(X.values, i)) "
   ]
  },
  {
   "cell_type": "code",
   "execution_count": 127,
   "metadata": {},
   "outputs": [
    {
     "name": "stdout",
     "output_type": "stream",
     "text": [
      "<class 'pandas.core.frame.DataFrame'>\n",
      "Int64Index: 392 entries, 0 to 396\n",
      "Data columns (total 9 columns):\n",
      " #   Column        Non-Null Count  Dtype  \n",
      "---  ------        --------------  -----  \n",
      " 0   mpg           392 non-null    float64\n",
      " 1   cylinders     392 non-null    int64  \n",
      " 2   displacement  392 non-null    float64\n",
      " 3   horsepower    392 non-null    float64\n",
      " 4   weight        392 non-null    int64  \n",
      " 5   acceleration  392 non-null    float64\n",
      " 6   year          392 non-null    int64  \n",
      " 7   origin        392 non-null    int64  \n",
      " 8   name          392 non-null    object \n",
      "dtypes: float64(4), int64(4), object(1)\n",
      "memory usage: 30.6+ KB\n"
     ]
    }
   ],
   "source": [
    "auto = pd.read_csv('Auto.csv', na_values='?').dropna()\n",
    "auto.info()"
   ]
  },
  {
   "cell_type": "code",
   "execution_count": 128,
   "metadata": {},
   "outputs": [
    {
     "data": {
      "image/png": "[encoded data removed]",
      "text/plain": [
       "<Figure size 432x288 with 1 Axes>"
      ]
     },
     "metadata": {
      "needs_background": "light"
     },
     "output_type": "display_data"
    }
   ],
   "source": [
    "# With Seaborn's regplot() you can easily plot higher order polynomials.\n",
    "plt.scatter(x = auto.horsepower, y = auto.mpg, facecolors='None', edgecolors='k', alpha=.5) \n",
    "sns.regplot(x = auto.horsepower, y = auto.mpg, ci=None, label='Linear', scatter=False, color='orange')\n",
    "sns.regplot(x = auto.horsepower, y = auto.mpg, ci=None, label='Degree 2', order=2, scatter=False, color='lightblue')\n",
    "sns.regplot(x = auto.horsepower, y = auto.mpg, ci=None, label='Degree 5', order=5, scatter=False, color='g')\n",
    "plt.legend()\n",
    "plt.ylim(5,55)\n",
    "plt.xlim(40,240);"
   ]
  },
  {
   "cell_type": "code",
   "execution_count": 131,
   "metadata": {},
   "outputs": [
    {
     "data": {
      "text/html": [
       "<div>\n",
       "<style scoped>\n",
       "    .dataframe tbody tr th:only-of-type {\n",
       "        vertical-align: middle;\n",
       "    }\n",
       "\n",
       "    .dataframe tbody tr th {\n",
       "        vertical-align: top;\n",
       "    }\n",
       "\n",
       "    .dataframe thead th {\n",
       "        text-align: right;\n",
       "    }\n",
       "</style>\n",
       "<table border=\"1\" class=\"dataframe\">\n",
       "  <thead>\n",
       "    <tr style=\"text-align: right;\">\n",
       "      <th></th>\n",
       "      <th>mpg</th>\n",
       "      <th>cylinders</th>\n",
       "      <th>displacement</th>\n",
       "      <th>horsepower</th>\n",
       "      <th>weight</th>\n",
       "      <th>acceleration</th>\n",
       "      <th>year</th>\n",
       "      <th>origin</th>\n",
       "      <th>name</th>\n",
       "      <th>pred1</th>\n",
       "      <th>resid1</th>\n",
       "      <th>horsepower2</th>\n",
       "    </tr>\n",
       "  </thead>\n",
       "  <tbody>\n",
       "    <tr>\n",
       "      <th>0</th>\n",
       "      <td>18.0</td>\n",
       "      <td>8</td>\n",
       "      <td>307.0</td>\n",
       "      <td>130.0</td>\n",
       "      <td>3504</td>\n",
       "      <td>12.0</td>\n",
       "      <td>70</td>\n",
       "      <td>1</td>\n",
       "      <td>chevrolet chevelle malibu</td>\n",
       "      <td>19.416046</td>\n",
       "      <td>-1.416046</td>\n",
       "      <td>16900.0</td>\n",
       "    </tr>\n",
       "    <tr>\n",
       "      <th>1</th>\n",
       "      <td>15.0</td>\n",
       "      <td>8</td>\n",
       "      <td>350.0</td>\n",
       "      <td>165.0</td>\n",
       "      <td>3693</td>\n",
       "      <td>11.5</td>\n",
       "      <td>70</td>\n",
       "      <td>1</td>\n",
       "      <td>buick skylark 320</td>\n",
       "      <td>13.891480</td>\n",
       "      <td>1.108520</td>\n",
       "      <td>27225.0</td>\n",
       "    </tr>\n",
       "    <tr>\n",
       "      <th>2</th>\n",
       "      <td>18.0</td>\n",
       "      <td>8</td>\n",
       "      <td>318.0</td>\n",
       "      <td>150.0</td>\n",
       "      <td>3436</td>\n",
       "      <td>11.0</td>\n",
       "      <td>70</td>\n",
       "      <td>1</td>\n",
       "      <td>plymouth satellite</td>\n",
       "      <td>16.259151</td>\n",
       "      <td>1.740849</td>\n",
       "      <td>22500.0</td>\n",
       "    </tr>\n",
       "  </tbody>\n",
       "</table>\n",
       "</div>"
      ],
      "text/plain": [
       "    mpg  cylinders  displacement  horsepower  weight  acceleration  year  \\\n",
       "0  18.0          8         307.0       130.0    3504          12.0    70   \n",
       "1  15.0          8         350.0       165.0    3693          11.5    70   \n",
       "2  18.0          8         318.0       150.0    3436          11.0    70   \n",
       "\n",
       "   origin                       name      pred1    resid1  horsepower2  \n",
       "0       1  chevrolet chevelle malibu  19.416046 -1.416046      16900.0  \n",
       "1       1          buick skylark 320  13.891480  1.108520      27225.0  \n",
       "2       1         plymouth satellite  16.259151  1.740849      22500.0  "
      ]
     },
     "execution_count": 131,
     "metadata": {},
     "output_type": "execute_result"
    }
   ],
   "source": [
    "auto['horsepower2'] = auto.horsepower**2\n",
    "auto.head(3)"
   ]
  },
  {
   "cell_type": "code",
   "execution_count": 132,
   "metadata": {},
   "outputs": [
    {
     "data": {
      "text/html": [
       "<table class=\"simpletable\">\n",
       "<tr>\n",
       "       <td></td>          <th>coef</th>     <th>std err</th>      <th>t</th>      <th>P>|t|</th>  <th>[0.025</th>    <th>0.975]</th>  \n",
       "</tr>\n",
       "<tr>\n",
       "  <th>Intercept</th>   <td>   56.9001</td> <td>    1.800</td> <td>   31.604</td> <td> 0.000</td> <td>   53.360</td> <td>   60.440</td>\n",
       "</tr>\n",
       "<tr>\n",
       "  <th>horsepower</th>  <td>   -0.4662</td> <td>    0.031</td> <td>  -14.978</td> <td> 0.000</td> <td>   -0.527</td> <td>   -0.405</td>\n",
       "</tr>\n",
       "<tr>\n",
       "  <th>horsepower2</th> <td>    0.0012</td> <td>    0.000</td> <td>   10.080</td> <td> 0.000</td> <td>    0.001</td> <td>    0.001</td>\n",
       "</tr>\n",
       "</table>"
      ],
      "text/plain": [
       "<class 'statsmodels.iolib.table.SimpleTable'>"
      ]
     },
     "execution_count": 132,
     "metadata": {},
     "output_type": "execute_result"
    }
   ],
   "source": [
    "est = smf.ols('mpg ~ horsepower + horsepower2', auto).fit()\n",
    "est.summary().tables[1]"
   ]
  },
  {
   "cell_type": "code",
   "execution_count": 133,
   "metadata": {},
   "outputs": [],
   "source": [
    "regr = skl_lm.LinearRegression()\n",
    "\n",
    "# Linear fit\n",
    "X = auto.horsepower.values.reshape(-1,1)\n",
    "y = auto.mpg\n",
    "regr.fit(X, y)\n",
    "\n",
    "auto['pred1'] = regr.predict(X)\n",
    "auto['resid1'] = auto.mpg - auto.pred1\n",
    "\n",
    "# Quadratic fit\n",
    "X2 = auto[['horsepower', 'horsepower2']].values\n",
    "regr.fit(X2, y)\n",
    "\n",
    "auto['pred2'] = regr.predict(X2)\n",
    "auto['resid2'] = auto.mpg - auto.pred2"
   ]
  },
  {
   "cell_type": "code",
   "execution_count": 134,
   "metadata": {},
   "outputs": [
    {
     "data": {
      "text/html": [
       "<div>\n",
       "<style scoped>\n",
       "    .dataframe tbody tr th:only-of-type {\n",
       "        vertical-align: middle;\n",
       "    }\n",
       "\n",
       "    .dataframe tbody tr th {\n",
       "        vertical-align: top;\n",
       "    }\n",
       "\n",
       "    .dataframe thead th {\n",
       "        text-align: right;\n",
       "    }\n",
       "</style>\n",
       "<table border=\"1\" class=\"dataframe\">\n",
       "  <thead>\n",
       "    <tr style=\"text-align: right;\">\n",
       "      <th></th>\n",
       "      <th>mpg</th>\n",
       "      <th>cylinders</th>\n",
       "      <th>displacement</th>\n",
       "      <th>horsepower</th>\n",
       "      <th>weight</th>\n",
       "      <th>acceleration</th>\n",
       "      <th>year</th>\n",
       "      <th>origin</th>\n",
       "      <th>name</th>\n",
       "      <th>pred1</th>\n",
       "      <th>resid1</th>\n",
       "      <th>horsepower2</th>\n",
       "      <th>pred2</th>\n",
       "      <th>resid2</th>\n",
       "    </tr>\n",
       "  </thead>\n",
       "  <tbody>\n",
       "    <tr>\n",
       "      <th>0</th>\n",
       "      <td>18.0</td>\n",
       "      <td>8</td>\n",
       "      <td>307.0</td>\n",
       "      <td>130.0</td>\n",
       "      <td>3504</td>\n",
       "      <td>12.0</td>\n",
       "      <td>70</td>\n",
       "      <td>1</td>\n",
       "      <td>chevrolet chevelle malibu</td>\n",
       "      <td>19.416046</td>\n",
       "      <td>-1.416046</td>\n",
       "      <td>16900.0</td>\n",
       "      <td>17.091508</td>\n",
       "      <td>0.908492</td>\n",
       "    </tr>\n",
       "    <tr>\n",
       "      <th>1</th>\n",
       "      <td>15.0</td>\n",
       "      <td>8</td>\n",
       "      <td>350.0</td>\n",
       "      <td>165.0</td>\n",
       "      <td>3693</td>\n",
       "      <td>11.5</td>\n",
       "      <td>70</td>\n",
       "      <td>1</td>\n",
       "      <td>buick skylark 320</td>\n",
       "      <td>13.891480</td>\n",
       "      <td>1.108520</td>\n",
       "      <td>27225.0</td>\n",
       "      <td>13.480156</td>\n",
       "      <td>1.519844</td>\n",
       "    </tr>\n",
       "    <tr>\n",
       "      <th>2</th>\n",
       "      <td>18.0</td>\n",
       "      <td>8</td>\n",
       "      <td>318.0</td>\n",
       "      <td>150.0</td>\n",
       "      <td>3436</td>\n",
       "      <td>11.0</td>\n",
       "      <td>70</td>\n",
       "      <td>1</td>\n",
       "      <td>plymouth satellite</td>\n",
       "      <td>16.259151</td>\n",
       "      <td>1.740849</td>\n",
       "      <td>22500.0</td>\n",
       "      <td>14.658717</td>\n",
       "      <td>3.341283</td>\n",
       "    </tr>\n",
       "    <tr>\n",
       "      <th>3</th>\n",
       "      <td>16.0</td>\n",
       "      <td>8</td>\n",
       "      <td>304.0</td>\n",
       "      <td>150.0</td>\n",
       "      <td>3433</td>\n",
       "      <td>12.0</td>\n",
       "      <td>70</td>\n",
       "      <td>1</td>\n",
       "      <td>amc rebel sst</td>\n",
       "      <td>16.259151</td>\n",
       "      <td>-0.259151</td>\n",
       "      <td>22500.0</td>\n",
       "      <td>14.658717</td>\n",
       "      <td>1.341283</td>\n",
       "    </tr>\n",
       "    <tr>\n",
       "      <th>4</th>\n",
       "      <td>17.0</td>\n",
       "      <td>8</td>\n",
       "      <td>302.0</td>\n",
       "      <td>140.0</td>\n",
       "      <td>3449</td>\n",
       "      <td>10.5</td>\n",
       "      <td>70</td>\n",
       "      <td>1</td>\n",
       "      <td>ford torino</td>\n",
       "      <td>17.837598</td>\n",
       "      <td>-0.837598</td>\n",
       "      <td>19600.0</td>\n",
       "      <td>15.752059</td>\n",
       "      <td>1.247941</td>\n",
       "    </tr>\n",
       "  </tbody>\n",
       "</table>\n",
       "</div>"
      ],
      "text/plain": [
       "    mpg  cylinders  displacement  horsepower  weight  acceleration  year  \\\n",
       "0  18.0          8         307.0       130.0    3504          12.0    70   \n",
       "1  15.0          8         350.0       165.0    3693          11.5    70   \n",
       "2  18.0          8         318.0       150.0    3436          11.0    70   \n",
       "3  16.0          8         304.0       150.0    3433          12.0    70   \n",
       "4  17.0          8         302.0       140.0    3449          10.5    70   \n",
       "\n",
       "   origin                       name      pred1    resid1  horsepower2  \\\n",
       "0       1  chevrolet chevelle malibu  19.416046 -1.416046      16900.0   \n",
       "1       1          buick skylark 320  13.891480  1.108520      27225.0   \n",
       "2       1         plymouth satellite  16.259151  1.740849      22500.0   \n",
       "3       1              amc rebel sst  16.259151 -0.259151      22500.0   \n",
       "4       1                ford torino  17.837598 -0.837598      19600.0   \n",
       "\n",
       "       pred2    resid2  \n",
       "0  17.091508  0.908492  \n",
       "1  13.480156  1.519844  \n",
       "2  14.658717  3.341283  \n",
       "3  14.658717  1.341283  \n",
       "4  15.752059  1.247941  "
      ]
     },
     "execution_count": 134,
     "metadata": {},
     "output_type": "execute_result"
    }
   ],
   "source": [
    "auto.head()"
   ]
  },
  {
   "cell_type": "code",
   "execution_count": 136,
   "metadata": {},
   "outputs": [
    {
     "data": {
      "image/png": "[encoded data removed]",
      "text/plain": [
       "<Figure size 864x360 with 2 Axes>"
      ]
     },
     "metadata": {
      "needs_background": "light"
     },
     "output_type": "display_data"
    }
   ],
   "source": [
    "fig, (ax1,ax2) = plt.subplots(1,2, figsize=(12,5))\n",
    "\n",
    "# Left plot\n",
    "sns.regplot(auto.pred1, auto.resid1, lowess=True,\n",
    "            ax=ax1, line_kws={'color':'r', 'lw':1}\n",
    "            )\n",
    "ax1.hlines(0, xmin=ax1.xaxis.get_data_interval()[0],\n",
    "           xmax=ax1.xaxis.get_data_interval()[1], linestyles='dotted')\n",
    "ax1.set_title('Residual Plot for Linear Fit')\n",
    "\n",
    "# Right plot\n",
    "sns.regplot(auto.pred2, auto.resid2, lowess=True,\n",
    "            line_kws={'color':'r', 'lw':1}, ax=ax2,\n",
    "            )\n",
    "ax2.hlines(0,xmin=ax2.xaxis.get_data_interval()[0],\n",
    "           xmax=ax2.xaxis.get_data_interval()[1], linestyles='dotted')\n",
    "ax2.set_title('Residual Plot for Quadratic Fit')\n",
    "\n",
    "for ax in fig.axes:\n",
    "    ax.set_xlabel('Fitted values')\n",
    "    ax.set_ylabel('Residuals')"
   ]
  },
  {
   "cell_type": "markdown",
   "metadata": {},
   "source": [
    "## Handling Categorical Variables"
   ]
  },
  {
   "cell_type": "code",
   "execution_count": 137,
   "metadata": {},
   "outputs": [],
   "source": [
    "credit = pd.read_csv(\"credit.csv\")"
   ]
  },
  {
   "cell_type": "code",
   "execution_count": 139,
   "metadata": {},
   "outputs": [
    {
     "name": "stdout",
     "output_type": "stream",
     "text": [
      "<class 'pandas.core.frame.DataFrame'>\n",
      "RangeIndex: 400 entries, 0 to 399\n",
      "Data columns (total 11 columns):\n",
      " #   Column     Non-Null Count  Dtype  \n",
      "---  ------     --------------  -----  \n",
      " 0   Income     400 non-null    float64\n",
      " 1   Limit      400 non-null    int64  \n",
      " 2   Rating     400 non-null    int64  \n",
      " 3   Cards      400 non-null    int64  \n",
      " 4   Age        400 non-null    int64  \n",
      " 5   Education  400 non-null    int64  \n",
      " 6   Own        400 non-null    object \n",
      " 7   Student    400 non-null    object \n",
      " 8   Married    400 non-null    object \n",
      " 9   Region     400 non-null    object \n",
      " 10  Balance    400 non-null    int64  \n",
      "dtypes: float64(1), int64(6), object(4)\n",
      "memory usage: 34.5+ KB\n"
     ]
    }
   ],
   "source": [
    "credit.info()"
   ]
  },
  {
   "cell_type": "code",
   "execution_count": 140,
   "metadata": {},
   "outputs": [
    {
     "data": {
      "text/plain": [
       "0       No\n",
       "1      Yes\n",
       "2       No\n",
       "3       No\n",
       "4       No\n",
       "      ... \n",
       "395     No\n",
       "396     No\n",
       "397     No\n",
       "398     No\n",
       "399     No\n",
       "Name: Student, Length: 400, dtype: object"
      ]
     },
     "execution_count": 140,
     "metadata": {},
     "output_type": "execute_result"
    }
   ],
   "source": [
    "credit[\"Student\"]"
   ]
  },
  {
   "cell_type": "code",
   "execution_count": 141,
   "metadata": {},
   "outputs": [
    {
     "data": {
      "text/plain": [
       "0      0\n",
       "1      1\n",
       "2      0\n",
       "3      0\n",
       "4      0\n",
       "      ..\n",
       "395    0\n",
       "396    0\n",
       "397    0\n",
       "398    0\n",
       "399    0\n",
       "Name: Student, Length: 400, dtype: int64"
      ]
     },
     "execution_count": 141,
     "metadata": {},
     "output_type": "execute_result"
    }
   ],
   "source": [
    "credit[\"Student\"].map({\"Yes\": 1, \"No\": 0})"
   ]
  },
  {
   "cell_type": "code",
   "execution_count": 142,
   "metadata": {},
   "outputs": [],
   "source": [
    "credit[\"Student_code\"] = credit[\"Student\"].map({\"Yes\": 1, \"No\": 0})"
   ]
  },
  {
   "cell_type": "code",
   "execution_count": 143,
   "metadata": {},
   "outputs": [
    {
     "data": {
      "text/html": [
       "<div>\n",
       "<style scoped>\n",
       "    .dataframe tbody tr th:only-of-type {\n",
       "        vertical-align: middle;\n",
       "    }\n",
       "\n",
       "    .dataframe tbody tr th {\n",
       "        vertical-align: top;\n",
       "    }\n",
       "\n",
       "    .dataframe thead th {\n",
       "        text-align: right;\n",
       "    }\n",
       "</style>\n",
       "<table border=\"1\" class=\"dataframe\">\n",
       "  <thead>\n",
       "    <tr style=\"text-align: right;\">\n",
       "      <th></th>\n",
       "      <th>Income</th>\n",
       "      <th>Limit</th>\n",
       "      <th>Rating</th>\n",
       "      <th>Cards</th>\n",
       "      <th>Age</th>\n",
       "      <th>Education</th>\n",
       "      <th>Own</th>\n",
       "      <th>Student</th>\n",
       "      <th>Married</th>\n",
       "      <th>Region</th>\n",
       "      <th>Balance</th>\n",
       "      <th>Student_code</th>\n",
       "    </tr>\n",
       "  </thead>\n",
       "  <tbody>\n",
       "    <tr>\n",
       "      <th>0</th>\n",
       "      <td>14.891</td>\n",
       "      <td>3606</td>\n",
       "      <td>283</td>\n",
       "      <td>2</td>\n",
       "      <td>34</td>\n",
       "      <td>11</td>\n",
       "      <td>No</td>\n",
       "      <td>No</td>\n",
       "      <td>Yes</td>\n",
       "      <td>South</td>\n",
       "      <td>333</td>\n",
       "      <td>0</td>\n",
       "    </tr>\n",
       "    <tr>\n",
       "      <th>1</th>\n",
       "      <td>106.025</td>\n",
       "      <td>6645</td>\n",
       "      <td>483</td>\n",
       "      <td>3</td>\n",
       "      <td>82</td>\n",
       "      <td>15</td>\n",
       "      <td>Yes</td>\n",
       "      <td>Yes</td>\n",
       "      <td>Yes</td>\n",
       "      <td>West</td>\n",
       "      <td>903</td>\n",
       "      <td>1</td>\n",
       "    </tr>\n",
       "    <tr>\n",
       "      <th>2</th>\n",
       "      <td>104.593</td>\n",
       "      <td>7075</td>\n",
       "      <td>514</td>\n",
       "      <td>4</td>\n",
       "      <td>71</td>\n",
       "      <td>11</td>\n",
       "      <td>No</td>\n",
       "      <td>No</td>\n",
       "      <td>No</td>\n",
       "      <td>West</td>\n",
       "      <td>580</td>\n",
       "      <td>0</td>\n",
       "    </tr>\n",
       "  </tbody>\n",
       "</table>\n",
       "</div>"
      ],
      "text/plain": [
       "    Income  Limit  Rating  Cards  Age  Education  Own Student Married Region  \\\n",
       "0   14.891   3606     283      2   34         11   No      No     Yes  South   \n",
       "1  106.025   6645     483      3   82         15  Yes     Yes     Yes   West   \n",
       "2  104.593   7075     514      4   71         11   No      No      No   West   \n",
       "\n",
       "   Balance  Student_code  \n",
       "0      333             0  \n",
       "1      903             1  \n",
       "2      580             0  "
      ]
     },
     "execution_count": 143,
     "metadata": {},
     "output_type": "execute_result"
    }
   ],
   "source": [
    "credit.head(3)"
   ]
  },
  {
   "cell_type": "code",
   "execution_count": 144,
   "metadata": {},
   "outputs": [
    {
     "data": {
      "text/html": [
       "<table class=\"simpletable\">\n",
       "<tr>\n",
       "        <td></td>          <th>coef</th>     <th>std err</th>      <th>t</th>      <th>P>|t|</th>  <th>[0.025</th>    <th>0.975]</th>  \n",
       "</tr>\n",
       "<tr>\n",
       "  <th>Intercept</th>    <td>  480.3694</td> <td>   23.434</td> <td>   20.499</td> <td> 0.000</td> <td>  434.300</td> <td>  526.439</td>\n",
       "</tr>\n",
       "<tr>\n",
       "  <th>Student_code</th> <td>  396.4556</td> <td>   74.104</td> <td>    5.350</td> <td> 0.000</td> <td>  250.771</td> <td>  542.140</td>\n",
       "</tr>\n",
       "</table>"
      ],
      "text/plain": [
       "<class 'statsmodels.iolib.table.SimpleTable'>"
      ]
     },
     "execution_count": 144,
     "metadata": {},
     "output_type": "execute_result"
    }
   ],
   "source": [
    "est = smf.ols('Balance ~ Student_code', credit).fit()\n",
    "est.summary().tables[1]"
   ]
  },
  {
   "cell_type": "code",
   "execution_count": 145,
   "metadata": {},
   "outputs": [
    {
     "data": {
      "text/html": [
       "<table class=\"simpletable\">\n",
       "<tr>\n",
       "        <td></td>          <th>coef</th>     <th>std err</th>      <th>t</th>      <th>P>|t|</th>  <th>[0.025</th>    <th>0.975]</th>  \n",
       "</tr>\n",
       "<tr>\n",
       "  <th>Intercept</th>    <td>  211.1430</td> <td>   32.457</td> <td>    6.505</td> <td> 0.000</td> <td>  147.333</td> <td>  274.952</td>\n",
       "</tr>\n",
       "<tr>\n",
       "  <th>Student_code</th> <td>  382.6705</td> <td>   65.311</td> <td>    5.859</td> <td> 0.000</td> <td>  254.272</td> <td>  511.069</td>\n",
       "</tr>\n",
       "<tr>\n",
       "  <th>Income</th>       <td>    5.9843</td> <td>    0.557</td> <td>   10.751</td> <td> 0.000</td> <td>    4.890</td> <td>    7.079</td>\n",
       "</tr>\n",
       "</table>"
      ],
      "text/plain": [
       "<class 'statsmodels.iolib.table.SimpleTable'>"
      ]
     },
     "execution_count": 145,
     "metadata": {},
     "output_type": "execute_result"
    }
   ],
   "source": [
    "est = smf.ols('Balance ~ Student_code + Income', credit).fit()\n",
    "est.summary().tables[1]"
   ]
  },
  {
   "cell_type": "code",
   "execution_count": 146,
   "metadata": {},
   "outputs": [
    {
     "data": {
      "text/html": [
       "<table class=\"simpletable\">\n",
       "<tr>\n",
       "           <td></td>              <th>coef</th>     <th>std err</th>      <th>t</th>      <th>P>|t|</th>  <th>[0.025</th>    <th>0.975]</th>  \n",
       "</tr>\n",
       "<tr>\n",
       "  <th>Intercept</th>           <td>  200.6232</td> <td>   33.698</td> <td>    5.953</td> <td> 0.000</td> <td>  134.373</td> <td>  266.873</td>\n",
       "</tr>\n",
       "<tr>\n",
       "  <th>Student_code</th>        <td>  476.6758</td> <td>  104.351</td> <td>    4.568</td> <td> 0.000</td> <td>  271.524</td> <td>  681.827</td>\n",
       "</tr>\n",
       "<tr>\n",
       "  <th>Income</th>              <td>    6.2182</td> <td>    0.592</td> <td>   10.502</td> <td> 0.000</td> <td>    5.054</td> <td>    7.382</td>\n",
       "</tr>\n",
       "<tr>\n",
       "  <th>Student_code:Income</th> <td>   -1.9992</td> <td>    1.731</td> <td>   -1.155</td> <td> 0.249</td> <td>   -5.403</td> <td>    1.404</td>\n",
       "</tr>\n",
       "</table>"
      ],
      "text/plain": [
       "<class 'statsmodels.iolib.table.SimpleTable'>"
      ]
     },
     "execution_count": 146,
     "metadata": {},
     "output_type": "execute_result"
    }
   ],
   "source": [
    "est = smf.ols('Balance ~ Student_code + Income + Student_code*Income', credit).fit()\n",
    "est.summary().tables[1]"
   ]
  },
  {
   "cell_type": "code",
   "execution_count": 147,
   "metadata": {},
   "outputs": [
    {
     "data": {
      "text/plain": [
       "Intercept              200.623153\n",
       "Student_code           476.675843\n",
       "Income                   6.218169\n",
       "Student_code:Income     -1.999151\n",
       "dtype: float64"
      ]
     },
     "execution_count": 147,
     "metadata": {},
     "output_type": "execute_result"
    }
   ],
   "source": [
    "est.params"
   ]
  },
  {
   "cell_type": "code",
   "execution_count": 148,
   "metadata": {},
   "outputs": [],
   "source": [
    "credit[\"Income*Student_code\"] = credit[\"Income\"]*credit[\"Student_code\"]"
   ]
  },
  {
   "cell_type": "code",
   "execution_count": 149,
   "metadata": {},
   "outputs": [
    {
     "data": {
      "text/html": [
       "<div>\n",
       "<style scoped>\n",
       "    .dataframe tbody tr th:only-of-type {\n",
       "        vertical-align: middle;\n",
       "    }\n",
       "\n",
       "    .dataframe tbody tr th {\n",
       "        vertical-align: top;\n",
       "    }\n",
       "\n",
       "    .dataframe thead th {\n",
       "        text-align: right;\n",
       "    }\n",
       "</style>\n",
       "<table border=\"1\" class=\"dataframe\">\n",
       "  <thead>\n",
       "    <tr style=\"text-align: right;\">\n",
       "      <th></th>\n",
       "      <th>Income</th>\n",
       "      <th>Limit</th>\n",
       "      <th>Rating</th>\n",
       "      <th>Cards</th>\n",
       "      <th>Age</th>\n",
       "      <th>Education</th>\n",
       "      <th>Own</th>\n",
       "      <th>Student</th>\n",
       "      <th>Married</th>\n",
       "      <th>Region</th>\n",
       "      <th>Balance</th>\n",
       "      <th>Student_code</th>\n",
       "      <th>Income*Student_code</th>\n",
       "    </tr>\n",
       "  </thead>\n",
       "  <tbody>\n",
       "    <tr>\n",
       "      <th>0</th>\n",
       "      <td>14.891</td>\n",
       "      <td>3606</td>\n",
       "      <td>283</td>\n",
       "      <td>2</td>\n",
       "      <td>34</td>\n",
       "      <td>11</td>\n",
       "      <td>No</td>\n",
       "      <td>No</td>\n",
       "      <td>Yes</td>\n",
       "      <td>South</td>\n",
       "      <td>333</td>\n",
       "      <td>0</td>\n",
       "      <td>0.000</td>\n",
       "    </tr>\n",
       "    <tr>\n",
       "      <th>1</th>\n",
       "      <td>106.025</td>\n",
       "      <td>6645</td>\n",
       "      <td>483</td>\n",
       "      <td>3</td>\n",
       "      <td>82</td>\n",
       "      <td>15</td>\n",
       "      <td>Yes</td>\n",
       "      <td>Yes</td>\n",
       "      <td>Yes</td>\n",
       "      <td>West</td>\n",
       "      <td>903</td>\n",
       "      <td>1</td>\n",
       "      <td>106.025</td>\n",
       "    </tr>\n",
       "    <tr>\n",
       "      <th>2</th>\n",
       "      <td>104.593</td>\n",
       "      <td>7075</td>\n",
       "      <td>514</td>\n",
       "      <td>4</td>\n",
       "      <td>71</td>\n",
       "      <td>11</td>\n",
       "      <td>No</td>\n",
       "      <td>No</td>\n",
       "      <td>No</td>\n",
       "      <td>West</td>\n",
       "      <td>580</td>\n",
       "      <td>0</td>\n",
       "      <td>0.000</td>\n",
       "    </tr>\n",
       "  </tbody>\n",
       "</table>\n",
       "</div>"
      ],
      "text/plain": [
       "    Income  Limit  Rating  Cards  Age  Education  Own Student Married Region  \\\n",
       "0   14.891   3606     283      2   34         11   No      No     Yes  South   \n",
       "1  106.025   6645     483      3   82         15  Yes     Yes     Yes   West   \n",
       "2  104.593   7075     514      4   71         11   No      No      No   West   \n",
       "\n",
       "   Balance  Student_code  Income*Student_code  \n",
       "0      333             0                0.000  \n",
       "1      903             1              106.025  \n",
       "2      580             0                0.000  "
      ]
     },
     "execution_count": 149,
     "metadata": {},
     "output_type": "execute_result"
    }
   ],
   "source": [
    "credit.head(3)"
   ]
  },
  {
   "cell_type": "code",
   "execution_count": 181,
   "metadata": {},
   "outputs": [
    {
     "data": {
      "text/plain": [
       "LinearRegression()"
      ]
     },
     "execution_count": 181,
     "metadata": {},
     "output_type": "execute_result"
    }
   ],
   "source": [
    "regr = skl_lm.LinearRegression()\n",
    "\n",
    "# Linear fit\n",
    "X = credit[[\"Income\", \"Student_code\", \"Income*Student_code\"]].values\n",
    "y = credit.Balance\n",
    "regr.fit(X, y)\n"
   ]
  },
  {
   "cell_type": "code",
   "execution_count": 184,
   "metadata": {},
   "outputs": [
    {
     "data": {
      "text/plain": [
       "array([  6.21816874, 476.67584321,  -1.99915087])"
      ]
     },
     "execution_count": 184,
     "metadata": {},
     "output_type": "execute_result"
    }
   ],
   "source": [
    "regr.coef_"
   ]
  },
  {
   "cell_type": "code",
   "execution_count": 185,
   "metadata": {},
   "outputs": [
    {
     "data": {
      "text/plain": [
       "200.62315294978123"
      ]
     },
     "execution_count": 185,
     "metadata": {},
     "output_type": "execute_result"
    }
   ],
   "source": [
    "regr.intercept_"
   ]
  },
  {
   "cell_type": "code",
   "execution_count": null,
   "metadata": {},
   "outputs": [],
   "source": []
  }
 ],
 "metadata": {
  "kernelspec": {
   "display_name": "Python 3",
   "language": "python",
   "name": "python3"
  },
  "language_info": {
   "codemirror_mode": {
    "name": "ipython",
    "version": 3
   },
   "file_extension": ".py",
   "mimetype": "text/x-python",
   "name": "python",
   "nbconvert_exporter": "python",
   "pygments_lexer": "ipython3",
   "version": "3.7.4"
  }
 },
 "nbformat": 4,
 "nbformat_minor": 2
}
