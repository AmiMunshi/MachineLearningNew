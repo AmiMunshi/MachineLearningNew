{
  "cells": [
    {
      "cell_type": "markdown",
      "metadata": {
        "id": "view-in-github",
        "colab_type": "text"
      },
      "source": [
        "<a href=\"https://colab.research.google.com/github/AmiMunshi/MachineLearningNew/blob/main/expt1_simple_linear_regression.ipynb\" target=\"_parent\"><img src=\"https://colab.research.google.com/assets/colab-badge.svg\" alt=\"Open In Colab\"/></a>"
      ]
    },
    {
      "cell_type": "code",
      "source": [
        "#import all the packages\n",
        "import numpy as np\n",
        "from sklearn.linear_model import LinearRegression\n",
        "import pandas as pd\n",
        "import matplotlib.pyplot as plt\n",
        "import warnings\n",
        "warnings.filterwarnings('ignore')\n"
      ],
      "metadata": {
        "id": "zqGhNCHHXJzP"
      },
      "execution_count": null,
      "outputs": []
    },
    {
      "cell_type": "markdown",
      "source": [
        "Simple linear regression using LinearRegression from sklearn"
      ],
      "metadata": {
        "id": "BWi3SnmvgEaP"
      }
    },
    {
      "cell_type": "code",
      "source": [
        "df= pd.read_excel('/content/HoursMarks.xlsx') #Read the excel or csv file"
      ],
      "metadata": {
        "id": "RM7IETDqX3Q9"
      },
      "execution_count": null,
      "outputs": []
    },
    {
      "cell_type": "code",
      "source": [
        "print(df)"
      ],
      "metadata": {
        "colab": {
          "base_uri": "https://localhost:8080/"
        },
        "id": "8iqhfueAY3Us",
        "outputId": "047be77a-151b-4459-bd77-89870ce8592c"
      },
      "execution_count": null,
      "outputs": [
        {
          "output_type": "stream",
          "name": "stdout",
          "text": [
            "   hours  marks\n",
            "0      5      9\n",
            "1      7     11\n",
            "2     12     18\n",
            "3      9     15\n",
            "4      2      5\n",
            "5      4      7\n"
          ]
        }
      ]
    },
    {
      "cell_type": "code",
      "source": [
        "#Plot a scatter plot\n",
        "plt.xlabel(\"Hours\")\n",
        "plt.ylabel(\"Marks\")\n",
        "plt.scatter(df.hours, df.marks, marker =\"*\")\n"
      ],
      "metadata": {
        "colab": {
          "base_uri": "https://localhost:8080/",
          "height": 297
        },
        "id": "u0cGuGgAZMlr",
        "outputId": "f09f5b0d-f931-4106-aff4-1d90ad1b20cf"
      },
      "execution_count": null,
      "outputs": [
        {
          "output_type": "execute_result",
          "data": {
            "text/plain": [
              "<matplotlib.collections.PathCollection at 0x7f7efa091150>"
            ]
          },
          "metadata": {},
          "execution_count": 4
        },
        {
          "output_type": "display_data",
          "data": {
            "image/png": "[encoded data removed]",
            "text/plain": [
              "<Figure size 432x288 with 1 Axes>"
            ]
          },
          "metadata": {
            "needs_background": "light"
          }
        }
      ]
    },
    {
      "cell_type": "code",
      "source": [
        "x= df[[\"hours\"]] #Assign values of hours and marks column to a variable\n",
        "y=df[['marks']]"
      ],
      "metadata": {
        "id": "DPZ8oxtEbtVx"
      },
      "execution_count": null,
      "outputs": []
    },
    {
      "cell_type": "code",
      "source": [
        "#Create linear regression model\n",
        "model= LinearRegression()\n",
        "model.fit(x,y ) #fit the data in the model"
      ],
      "metadata": {
        "colab": {
          "base_uri": "https://localhost:8080/"
        },
        "id": "Hqx4Jiv_ae4j",
        "outputId": "8c0b53c9-b05e-451a-ec4c-25aa530fe5ff"
      },
      "execution_count": null,
      "outputs": [
        {
          "output_type": "execute_result",
          "data": {
            "text/plain": [
              "LinearRegression()"
            ]
          },
          "metadata": {},
          "execution_count": 6
        }
      ]
    },
    {
      "cell_type": "code",
      "source": [
        "#Print the results\n",
        "#Coefficient of determination (𝑅²) \n",
        "r_sq = model.score(x, y)\n",
        "print(\"r^2 is \", r_sq)"
      ],
      "metadata": {
        "colab": {
          "base_uri": "https://localhost:8080/"
        },
        "id": "ewwXxfdjbgiy",
        "outputId": "9c7d9ac1-dc1d-484b-c157-f8b9a7b785b7"
      },
      "execution_count": null,
      "outputs": [
        {
          "output_type": "stream",
          "name": "stdout",
          "text": [
            "r^2 is  0.9895972624374836\n"
          ]
        }
      ]
    },
    {
      "cell_type": "code",
      "source": [
        "# The attributes of model are .intercept_, which represents the coefficient, 𝑏₀ \n",
        "#and .coef_, which represents 𝑏₁\n",
        "\n",
        "print('intercept:', model.intercept_)\n",
        "\n",
        "print('slope:', model.coef_)\n"
      ],
      "metadata": {
        "colab": {
          "base_uri": "https://localhost:8080/"
        },
        "id": "NWAs75ugcxAq",
        "outputId": "1d8b1cea-3161-46cf-ce29-10550b7c2b2a"
      },
      "execution_count": null,
      "outputs": [
        {
          "output_type": "stream",
          "name": "stdout",
          "text": [
            "intercept: [2.05089059]\n",
            "slope: [[1.35114504]]\n"
          ]
        }
      ]
    },
    {
      "cell_type": "code",
      "source": [
        "#Make prediction for x=10 hours\n",
        "\n",
        "model.predict([[10]])"
      ],
      "metadata": {
        "colab": {
          "base_uri": "https://localhost:8080/"
        },
        "id": "qS6-SxoFdevq",
        "outputId": "8348837f-2439-4b91-8fb6-66587c41b5aa"
      },
      "execution_count": null,
      "outputs": [
        {
          "output_type": "execute_result",
          "data": {
            "text/plain": [
              "array([[15.56234097]])"
            ]
          },
          "metadata": {},
          "execution_count": 11
        }
      ]
    },
    {
      "cell_type": "code",
      "source": [
        "#Make prediction for all the values of x\n",
        "yPred= model.predict(x)\n",
        "print(yPred)"
      ],
      "metadata": {
        "colab": {
          "base_uri": "https://localhost:8080/"
        },
        "id": "mDNaZKWIeSZ4",
        "outputId": "8fc0068b-4e23-4f13-92ee-0e232fdbbf6c"
      },
      "execution_count": null,
      "outputs": [
        {
          "output_type": "stream",
          "name": "stdout",
          "text": [
            "[[ 8.80661578]\n",
            " [11.50890585]\n",
            " [18.26463104]\n",
            " [14.21119593]\n",
            " [ 4.75318066]\n",
            " [ 7.45547074]]\n"
          ]
        }
      ]
    },
    {
      "cell_type": "code",
      "source": [
        "df['marksPred']=yPred #Add this column to the data frame"
      ],
      "metadata": {
        "id": "2jbVYFZWet3Y"
      },
      "execution_count": null,
      "outputs": []
    },
    {
      "cell_type": "code",
      "source": [
        "print(df) "
      ],
      "metadata": {
        "colab": {
          "base_uri": "https://localhost:8080/"
        },
        "id": "qtn61o4eeyOI",
        "outputId": "983ea645-1aea-4d5b-fa80-564dded5779e"
      },
      "execution_count": null,
      "outputs": [
        {
          "output_type": "stream",
          "name": "stdout",
          "text": [
            "   hours  marks  marksPred\n",
            "0      5      9   8.806616\n",
            "1      7     11  11.508906\n",
            "2     12     18  18.264631\n",
            "3      9     15  14.211196\n",
            "4      2      5   4.753181\n",
            "5      4      7   7.455471\n"
          ]
        }
      ]
    },
    {
      "cell_type": "code",
      "execution_count": null,
      "metadata": {
        "colab": {
          "base_uri": "https://localhost:8080/",
          "height": 297
        },
        "id": "VnqHwNbRWsl5",
        "outputId": "1c9fba8b-655b-4b3d-e8fe-c039a7323769"
      },
      "outputs": [
        {
          "output_type": "execute_result",
          "data": {
            "text/plain": [
              "[<matplotlib.lines.Line2D at 0x7f7ef3c2b4d0>]"
            ]
          },
          "metadata": {},
          "execution_count": 30
        },
        {
          "output_type": "display_data",
          "data": {
            "image/png": "[encoded data removed]",
            "text/plain": [
              "<Figure size 432x288 with 1 Axes>"
            ]
          },
          "metadata": {
            "needs_background": "light"
          }
        }
      ],
      "source": [
        "#%matplotlib inline\n",
        "plt.xlabel(\"Hours\")\n",
        "plt.ylabel(\"Marks\")\n",
        "plt.scatter(df.hours,df.marks, color=\"green\", marker=\"*\")\n",
        "plt.plot(df.hours, df.marksPred, color='red')"
      ]
    },
    {
      "cell_type": "markdown",
      "source": [
        "Simple linear regression using equations , without using built-in function in sklearn"
      ],
      "metadata": {
        "id": "wSCQ_7OWZ_pU"
      }
    },
    {
      "cell_type": "code",
      "source": [
        "df1= pd.read_excel('/content/HoursMarks.xlsx') #read the excel sheet"
      ],
      "metadata": {
        "id": "gxEzHes3aBFS"
      },
      "execution_count": null,
      "outputs": []
    },
    {
      "cell_type": "code",
      "source": [
        "print(df1)"
      ],
      "metadata": {
        "colab": {
          "base_uri": "https://localhost:8080/"
        },
        "id": "mU7SnzwWZ_ME",
        "outputId": "7dfa9333-045a-4009-b4d5-af1783915d90"
      },
      "execution_count": null,
      "outputs": [
        {
          "output_type": "stream",
          "name": "stdout",
          "text": [
            "   hours  marks\n",
            "0      5      9\n",
            "1      7     11\n",
            "2     12     18\n",
            "3      9     15\n",
            "4      2      5\n",
            "5      4      7\n"
          ]
        }
      ]
    },
    {
      "cell_type": "code",
      "source": [
        "df1= df1.rename(columns={'hours': 'x', \"marks\": 'y'})#change column headings"
      ],
      "metadata": {
        "id": "kWAs7VgngYk-"
      },
      "execution_count": null,
      "outputs": []
    },
    {
      "cell_type": "code",
      "source": [
        "print(df1)"
      ],
      "metadata": {
        "colab": {
          "base_uri": "https://localhost:8080/"
        },
        "id": "ChZ65L2lbRLx",
        "outputId": "a3e35998-7754-48b0-c361-42bf53a7613c"
      },
      "execution_count": null,
      "outputs": [
        {
          "output_type": "stream",
          "name": "stdout",
          "text": [
            "    x   y\n",
            "0   5   9\n",
            "1   7  11\n",
            "2  12  18\n",
            "3   9  15\n",
            "4   2   5\n",
            "5   4   7\n"
          ]
        }
      ]
    },
    {
      "cell_type": "code",
      "source": [
        "#Obtain mean for hours and marks column\n",
        "xMean= df1['x'].mean()\n",
        "yMean= df1[\"y\"].mean()\n",
        "print(\"xMean= \", xMean)\n",
        "print(\"yMean= \", yMean)"
      ],
      "metadata": {
        "colab": {
          "base_uri": "https://localhost:8080/"
        },
        "id": "I3WgJENpbWRK",
        "outputId": "96497f52-598c-41fb-ef29-9685929a5cc9"
      },
      "execution_count": null,
      "outputs": [
        {
          "output_type": "stream",
          "name": "stdout",
          "text": [
            "xMean=  6.5\n",
            "yMean=  10.833333333333334\n"
          ]
        }
      ]
    },
    {
      "cell_type": "code",
      "source": [
        "df1[\"xi-xMean\"]= df1[[\"x\"]]-xMean\n",
        "df1[\"yi-yMean\"]= df1[[\"y\"]]-yMean"
      ],
      "metadata": {
        "id": "MeU96Hazb1Gi"
      },
      "execution_count": null,
      "outputs": []
    },
    {
      "cell_type": "code",
      "source": [
        "print(df1)"
      ],
      "metadata": {
        "colab": {
          "base_uri": "https://localhost:8080/"
        },
        "id": "Dytj_BE_ckIR",
        "outputId": "f8f6f41d-380a-46a7-ba89-e688cad9c106"
      },
      "execution_count": null,
      "outputs": [
        {
          "output_type": "stream",
          "name": "stdout",
          "text": [
            "    x   y  xi-xMean  yi-yMean\n",
            "0   5   9      -1.5 -1.833333\n",
            "1   7  11       0.5  0.166667\n",
            "2  12  18       5.5  7.166667\n",
            "3   9  15       2.5  4.166667\n",
            "4   2   5      -4.5 -5.833333\n",
            "5   4   7      -2.5 -3.833333\n"
          ]
        }
      ]
    },
    {
      "cell_type": "code",
      "source": [
        "df1[\"(xi-xMean)^2\"]= df1[[\"xi-xMean\"]]**2\n",
        "print(df1)"
      ],
      "metadata": {
        "colab": {
          "base_uri": "https://localhost:8080/"
        },
        "id": "EJExih5jcspb",
        "outputId": "18fe31da-9dd1-4c0a-865e-34b7bcd8dcb1"
      },
      "execution_count": null,
      "outputs": [
        {
          "output_type": "stream",
          "name": "stdout",
          "text": [
            "    x   y  xi-xMean  yi-yMean  (xi-xMean)^2\n",
            "0   5   9      -1.5 -1.833333          2.25\n",
            "1   7  11       0.5  0.166667          0.25\n",
            "2  12  18       5.5  7.166667         30.25\n",
            "3   9  15       2.5  4.166667          6.25\n",
            "4   2   5      -4.5 -5.833333         20.25\n",
            "5   4   7      -2.5 -3.833333          6.25\n"
          ]
        }
      ]
    },
    {
      "cell_type": "code",
      "source": [
        "df1[\"(xi-xMean)(yi-yMean)\"]= df1[\"xi-xMean\"]*df1[\"yi-yMean\"]\n",
        "print(df1)"
      ],
      "metadata": {
        "colab": {
          "base_uri": "https://localhost:8080/"
        },
        "id": "nReisJJbc7_L",
        "outputId": "e8b77669-0627-417c-9d3a-c08e5b953717"
      },
      "execution_count": null,
      "outputs": [
        {
          "output_type": "stream",
          "name": "stdout",
          "text": [
            "    x   y  xi-xMean  yi-yMean  (xi-xMean)^2  (xi-xMean)(yi-yMean)\n",
            "0   5   9      -1.5 -1.833333          2.25              2.750000\n",
            "1   7  11       0.5  0.166667          0.25              0.083333\n",
            "2  12  18       5.5  7.166667         30.25             39.416667\n",
            "3   9  15       2.5  4.166667          6.25             10.416667\n",
            "4   2   5      -4.5 -5.833333         20.25             26.250000\n",
            "5   4   7      -2.5 -3.833333          6.25              9.583333\n"
          ]
        }
      ]
    },
    {
      "cell_type": "code",
      "source": [
        "df1[\"(xi-xMean)(yi-yMean)\"].sum()"
      ],
      "metadata": {
        "colab": {
          "base_uri": "https://localhost:8080/"
        },
        "id": "7domrTDyiyBd",
        "outputId": "5e71b631-8809-4cc2-ef59-a922435a9018"
      },
      "execution_count": null,
      "outputs": [
        {
          "output_type": "execute_result",
          "data": {
            "text/plain": [
              "88.5"
            ]
          },
          "metadata": {},
          "execution_count": 25
        }
      ]
    },
    {
      "cell_type": "code",
      "source": [
        "# find the slope b1 using the formula\n",
        "b1= df1[\"(xi-xMean)(yi-yMean)\"].sum()/df1[\"(xi-xMean)^2\"].sum()\n",
        "print(\"slope of the line b1 = \", b1)"
      ],
      "metadata": {
        "id": "n8lc2UKUeHEr",
        "colab": {
          "base_uri": "https://localhost:8080/"
        },
        "outputId": "5d5335dd-39ee-4b6f-d2e3-4e560013ac27"
      },
      "execution_count": null,
      "outputs": [
        {
          "output_type": "stream",
          "name": "stdout",
          "text": [
            "slope of the line b1 =  1.3511450381679388\n"
          ]
        }
      ]
    },
    {
      "cell_type": "code",
      "source": [
        "b1= np.round(b1, 6) #round the value of b1 to 6 decimal places\n",
        "print(b1)"
      ],
      "metadata": {
        "colab": {
          "base_uri": "https://localhost:8080/"
        },
        "id": "lcTLU5a8ijs8",
        "outputId": "d589fd5f-f177-4cd6-dbbd-def0ea25e7de"
      },
      "execution_count": null,
      "outputs": [
        {
          "output_type": "stream",
          "name": "stdout",
          "text": [
            "1.351145\n"
          ]
        }
      ]
    },
    {
      "cell_type": "code",
      "source": [
        "#find the y intercept b0 using the formula\n",
        "b0= np.round(yMean-b1*xMean,6)\n",
        "print(b0)"
      ],
      "metadata": {
        "colab": {
          "base_uri": "https://localhost:8080/"
        },
        "id": "W1HoddO1jLX1",
        "outputId": "6c7f1fcd-62a4-4eff-fd0e-055694368658"
      },
      "execution_count": null,
      "outputs": [
        {
          "output_type": "stream",
          "name": "stdout",
          "text": [
            "2.050891\n"
          ]
        }
      ]
    },
    {
      "cell_type": "code",
      "source": [
        "#create one coulum of predicted values of y in the data frame\n",
        "df1['yPred']= b0+ b1*x \n",
        "print(df1)"
      ],
      "metadata": {
        "colab": {
          "base_uri": "https://localhost:8080/"
        },
        "id": "yIMh6goqjFar",
        "outputId": "72358e69-0de6-46a9-d0e9-37e98f008b75"
      },
      "execution_count": null,
      "outputs": [
        {
          "output_type": "stream",
          "name": "stdout",
          "text": [
            "    x   y  xi-xMean  yi-yMean  (xi-xMean)^2  (xi-xMean)(yi-yMean)      yPred\n",
            "0   5   9      -1.5 -1.833333          2.25              2.750000   8.806616\n",
            "1   7  11       0.5  0.166667          0.25              0.083333  11.508906\n",
            "2  12  18       5.5  7.166667         30.25             39.416667  18.264631\n",
            "3   9  15       2.5  4.166667          6.25             10.416667  14.211196\n",
            "4   2   5      -4.5 -5.833333         20.25             26.250000   4.753181\n",
            "5   4   7      -2.5 -3.833333          6.25              9.583333   7.455471\n"
          ]
        }
      ]
    },
    {
      "cell_type": "code",
      "source": [
        "#Calculate SSR, SSE and SST\n",
        "SSE= ((df1[\"y\"]- df1['yPred'])**2).sum()\n",
        "print(SSE)"
      ],
      "metadata": {
        "colab": {
          "base_uri": "https://localhost:8080/"
        },
        "id": "D3ihNrHckmY6",
        "outputId": "41ac27c9-a63f-45e2-b166-633b4eb31508"
      },
      "execution_count": null,
      "outputs": [
        {
          "output_type": "stream",
          "name": "stdout",
          "text": [
            "1.256997455470999\n"
          ]
        }
      ]
    },
    {
      "cell_type": "code",
      "source": [
        "SSR= ((df1['yPred']-yMean)**2).sum()\n",
        "print(SSR)"
      ],
      "metadata": {
        "colab": {
          "base_uri": "https://localhost:8080/"
        },
        "id": "si-gu9T7lUXi",
        "outputId": "a79dd4a0-ad28-4520-d5cf-4d1b56e2670f"
      },
      "execution_count": null,
      "outputs": [
        {
          "output_type": "stream",
          "name": "stdout",
          "text": [
            "119.5763291221377\n"
          ]
        }
      ]
    },
    {
      "cell_type": "code",
      "source": [
        "SST= ((df1[\"y\"]-yMean)**2).sum()\n",
        "print(SST)"
      ],
      "metadata": {
        "colab": {
          "base_uri": "https://localhost:8080/"
        },
        "id": "ngR9dmHDmFji",
        "outputId": "7cfec8e3-9956-4fcf-88e1-9ea98445d475"
      },
      "execution_count": null,
      "outputs": [
        {
          "output_type": "stream",
          "name": "stdout",
          "text": [
            "120.83333333333333\n"
          ]
        }
      ]
    },
    {
      "cell_type": "code",
      "source": [
        "#Calculate R-squared value using the formual\n",
        "r_sq= SSR/SST\n",
        "print(r_sq)"
      ],
      "metadata": {
        "colab": {
          "base_uri": "https://localhost:8080/"
        },
        "id": "D_Mijz6qmk4x",
        "outputId": "ee486810-6bb5-4172-c7a9-9fc333fb06ce"
      },
      "execution_count": null,
      "outputs": [
        {
          "output_type": "stream",
          "name": "stdout",
          "text": [
            "0.9895972065280361\n"
          ]
        }
      ]
    },
    {
      "cell_type": "code",
      "source": [
        ""
      ],
      "metadata": {
        "id": "ilppCAg1myl5"
      },
      "execution_count": null,
      "outputs": []
    }
  ],
  "metadata": {
    "kernelspec": {
      "display_name": "Python 3",
      "language": "python",
      "name": "python3"
    },
    "language_info": {
      "codemirror_mode": {
        "name": "ipython",
        "version": 3
      },
      "file_extension": ".py",
      "mimetype": "text/x-python",
      "name": "python",
      "nbconvert_exporter": "python",
      "pygments_lexer": "ipython3",
      "version": "3.7.0"
    },
    "colab": {
      "name": "expt1_simple_linear_regression.ipynb",
      "provenance": [],
      "collapsed_sections": [],
      "include_colab_link": true
    }
  },
  "nbformat": 4,
  "nbformat_minor": 0
}