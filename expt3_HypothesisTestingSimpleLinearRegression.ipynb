{
  "nbformat": 4,
  "nbformat_minor": 0,
  "metadata": {
    "colab": {
      "name": "expt3_HypothesisTestingSimpleLinearRegression.ipynb",
      "provenance": [],
      "authorship_tag": "ABX9TyPop2EFc1BO8Vp29SxxXafC",
      "include_colab_link": true
    },
    "kernelspec": {
      "name": "python3",
      "display_name": "Python 3"
    },
    "language_info": {
      "name": "python"
    }
  },
  "cells": [
    {
      "cell_type": "markdown",
      "metadata": {
        "id": "view-in-github",
        "colab_type": "text"
      },
      "source": [
        "<a href=\"https://colab.research.google.com/github/AmiMunshi/MachineLearningNew/blob/main/expt3_HypothesisTestingSimpleLinearRegression.ipynb\" target=\"_parent\"><img src=\"https://colab.research.google.com/assets/colab-badge.svg\" alt=\"Open In Colab\"/></a>"
      ]
    },
    {
      "cell_type": "code",
      "execution_count": 100,
      "metadata": {
        "id": "MCgMpON6Opw6"
      },
      "outputs": [],
      "source": [
        "import pandas as pd\n",
        "import matplotlib.pyplot as plt\n",
        "import numpy as np\n",
        "import statsmodels.api as sm\n",
        "from sklearn.linear_model import LinearRegression"
      ]
    },
    {
      "cell_type": "code",
      "source": [
        "df= pd.read_excel(\"/content/IncomeSatisfaction.xlsx\") #read the csv file"
      ],
      "metadata": {
        "id": "SjlSTU0EPVmJ"
      },
      "execution_count": 117,
      "outputs": []
    },
    {
      "cell_type": "code",
      "source": [
        "df.axes #ascertain the column names"
      ],
      "metadata": {
        "colab": {
          "base_uri": "https://localhost:8080/"
        },
        "id": "DcHzQe95QbIB",
        "outputId": "e4c8e0e7-65a2-4e1e-b0ac-e48a2dfe5447"
      },
      "execution_count": 118,
      "outputs": [
        {
          "output_type": "execute_result",
          "data": {
            "text/plain": [
              "[RangeIndex(start=0, stop=41, step=1),\n",
              " Index(['Income', 'LifeSatisfaction'], dtype='object')]"
            ]
          },
          "metadata": {},
          "execution_count": 118
        }
      ]
    },
    {
      "cell_type": "code",
      "source": [
        "print(df) #print the dataframe to inspect its values\n",
        "#We observe that there is \"..\" string at many places in Income column\n",
        "#We need to either remove or replace this string value"
      ],
      "metadata": {
        "colab": {
          "base_uri": "https://localhost:8080/"
        },
        "id": "-Hkk8SeJXc-9",
        "outputId": "04f43f6d-5460-47b9-e5cb-fe0bcd10bf83"
      },
      "execution_count": 119,
      "outputs": [
        {
          "output_type": "stream",
          "name": "stdout",
          "text": [
            "    Income  LifeSatisfaction\n",
            "0   427064               7.3\n",
            "1   308325               7.1\n",
            "2   386006               6.9\n",
            "3   423849               7.4\n",
            "4   100967               6.5\n",
            "5       ..               6.3\n",
            "6       ..               6.7\n",
            "7   118637               7.6\n",
            "8   159373               5.7\n",
            "9   200827               7.6\n",
            "10  280653               6.5\n",
            "11  259667               7.0\n",
            "12  150134               5.4\n",
            "13  104458               5.6\n",
            "14      ..               7.5\n",
            "15  217130               7.0\n",
            "16      ..               7.2\n",
            "17  279889               6.0\n",
            "18  305878               5.9\n",
            "19  285980               5.9\n",
            "20   70160               5.9\n",
            "21      ..               5.9\n",
            "22  769053               6.9\n",
            "23      ..               6.5\n",
            "24  157824               7.4\n",
            "25  388514               7.3\n",
            "26  228936               7.6\n",
            "27  210991               6.1\n",
            "28  232666               5.4\n",
            "29  119696               6.2\n",
            "30  203044               5.9\n",
            "31  373548               6.3\n",
            "32      ..               7.3\n",
            "33      ..               7.5\n",
            "34      ..               5.5\n",
            "35  548392               6.8\n",
            "36  632100               6.9\n",
            "37  408376               6.5\n",
            "38      ..               6.4\n",
            "39      ..               5.8\n",
            "40      ..               4.7\n"
          ]
        }
      ]
    },
    {
      "cell_type": "code",
      "source": [
        "avgIncome=df[df[\"Income\"] != \"..\"].mean() #Obtain the average of Income where Income is not the string \"..\""
      ],
      "metadata": {
        "id": "gqnqRlZurfYO"
      },
      "execution_count": 122,
      "outputs": []
    },
    {
      "cell_type": "code",
      "source": [
        "print(avgIncome) #Print the average LifeSatisfaction and Income"
      ],
      "metadata": {
        "colab": {
          "base_uri": "https://localhost:8080/"
        },
        "id": "97lje3QhsGTE",
        "outputId": "8f8f4fb7-c58f-40a7-f810-a890be2dfbae"
      },
      "execution_count": 123,
      "outputs": [
        {
          "output_type": "stream",
          "name": "stdout",
          "text": [
            "Income              288004.724138\n",
            "LifeSatisfaction         6.572414\n",
            "dtype: float64\n"
          ]
        }
      ]
    },
    {
      "cell_type": "code",
      "source": [
        "type(avgIncome) #Ascertain type of avgIncome"
      ],
      "metadata": {
        "colab": {
          "base_uri": "https://localhost:8080/"
        },
        "id": "G0cUhGiQsTm8",
        "outputId": "551e767c-8665-4d3a-a5f5-ac2f9d5e8b8f"
      },
      "execution_count": 124,
      "outputs": [
        {
          "output_type": "execute_result",
          "data": {
            "text/plain": [
              "pandas.core.series.Series"
            ]
          },
          "metadata": {},
          "execution_count": 124
        }
      ]
    },
    {
      "cell_type": "code",
      "source": [
        "df[\"Income\"]= df[\"Income\"].replace(\"..\", avgIncome[0]) #replace string \"..\" from Income column with the average income"
      ],
      "metadata": {
        "id": "akGQcDP3SQfw"
      },
      "execution_count": 125,
      "outputs": []
    },
    {
      "cell_type": "code",
      "source": [
        "df #print df to observe that the string has been replaced by the average value"
      ],
      "metadata": {
        "colab": {
          "base_uri": "https://localhost:8080/",
          "height": 1000
        },
        "id": "WrqXKUVBY7_t",
        "outputId": "7a24d922-bd0e-46d4-bc20-408104b1304f"
      },
      "execution_count": 126,
      "outputs": [
        {
          "output_type": "execute_result",
          "data": {
            "text/html": [
              "\n",
              "  <div id=\"df-591278d8-47cb-4c82-b964-c441fc8f563d\">\n",
              "    <div class=\"colab-df-container\">\n",
              "      <div>\n",
              "<style scoped>\n",
              "    .dataframe tbody tr th:only-of-type {\n",
              "        vertical-align: middle;\n",
              "    }\n",
              "\n",
              "    .dataframe tbody tr th {\n",
              "        vertical-align: top;\n",
              "    }\n",
              "\n",
              "    .dataframe thead th {\n",
              "        text-align: right;\n",
              "    }\n",
              "</style>\n",
              "<table border=\"1\" class=\"dataframe\">\n",
              "  <thead>\n",
              "    <tr style=\"text-align: right;\">\n",
              "      <th></th>\n",
              "      <th>Income</th>\n",
              "      <th>LifeSatisfaction</th>\n",
              "    </tr>\n",
              "  </thead>\n",
              "  <tbody>\n",
              "    <tr>\n",
              "      <th>0</th>\n",
              "      <td>427064.000000</td>\n",
              "      <td>7.3</td>\n",
              "    </tr>\n",
              "    <tr>\n",
              "      <th>1</th>\n",
              "      <td>308325.000000</td>\n",
              "      <td>7.1</td>\n",
              "    </tr>\n",
              "    <tr>\n",
              "      <th>2</th>\n",
              "      <td>386006.000000</td>\n",
              "      <td>6.9</td>\n",
              "    </tr>\n",
              "    <tr>\n",
              "      <th>3</th>\n",
              "      <td>423849.000000</td>\n",
              "      <td>7.4</td>\n",
              "    </tr>\n",
              "    <tr>\n",
              "      <th>4</th>\n",
              "      <td>100967.000000</td>\n",
              "      <td>6.5</td>\n",
              "    </tr>\n",
              "    <tr>\n",
              "      <th>5</th>\n",
              "      <td>288004.724138</td>\n",
              "      <td>6.3</td>\n",
              "    </tr>\n",
              "    <tr>\n",
              "      <th>6</th>\n",
              "      <td>288004.724138</td>\n",
              "      <td>6.7</td>\n",
              "    </tr>\n",
              "    <tr>\n",
              "      <th>7</th>\n",
              "      <td>118637.000000</td>\n",
              "      <td>7.6</td>\n",
              "    </tr>\n",
              "    <tr>\n",
              "      <th>8</th>\n",
              "      <td>159373.000000</td>\n",
              "      <td>5.7</td>\n",
              "    </tr>\n",
              "    <tr>\n",
              "      <th>9</th>\n",
              "      <td>200827.000000</td>\n",
              "      <td>7.6</td>\n",
              "    </tr>\n",
              "    <tr>\n",
              "      <th>10</th>\n",
              "      <td>280653.000000</td>\n",
              "      <td>6.5</td>\n",
              "    </tr>\n",
              "    <tr>\n",
              "      <th>11</th>\n",
              "      <td>259667.000000</td>\n",
              "      <td>7.0</td>\n",
              "    </tr>\n",
              "    <tr>\n",
              "      <th>12</th>\n",
              "      <td>150134.000000</td>\n",
              "      <td>5.4</td>\n",
              "    </tr>\n",
              "    <tr>\n",
              "      <th>13</th>\n",
              "      <td>104458.000000</td>\n",
              "      <td>5.6</td>\n",
              "    </tr>\n",
              "    <tr>\n",
              "      <th>14</th>\n",
              "      <td>288004.724138</td>\n",
              "      <td>7.5</td>\n",
              "    </tr>\n",
              "    <tr>\n",
              "      <th>15</th>\n",
              "      <td>217130.000000</td>\n",
              "      <td>7.0</td>\n",
              "    </tr>\n",
              "    <tr>\n",
              "      <th>16</th>\n",
              "      <td>288004.724138</td>\n",
              "      <td>7.2</td>\n",
              "    </tr>\n",
              "    <tr>\n",
              "      <th>17</th>\n",
              "      <td>279889.000000</td>\n",
              "      <td>6.0</td>\n",
              "    </tr>\n",
              "    <tr>\n",
              "      <th>18</th>\n",
              "      <td>305878.000000</td>\n",
              "      <td>5.9</td>\n",
              "    </tr>\n",
              "    <tr>\n",
              "      <th>19</th>\n",
              "      <td>285980.000000</td>\n",
              "      <td>5.9</td>\n",
              "    </tr>\n",
              "    <tr>\n",
              "      <th>20</th>\n",
              "      <td>70160.000000</td>\n",
              "      <td>5.9</td>\n",
              "    </tr>\n",
              "    <tr>\n",
              "      <th>21</th>\n",
              "      <td>288004.724138</td>\n",
              "      <td>5.9</td>\n",
              "    </tr>\n",
              "    <tr>\n",
              "      <th>22</th>\n",
              "      <td>769053.000000</td>\n",
              "      <td>6.9</td>\n",
              "    </tr>\n",
              "    <tr>\n",
              "      <th>23</th>\n",
              "      <td>288004.724138</td>\n",
              "      <td>6.5</td>\n",
              "    </tr>\n",
              "    <tr>\n",
              "      <th>24</th>\n",
              "      <td>157824.000000</td>\n",
              "      <td>7.4</td>\n",
              "    </tr>\n",
              "    <tr>\n",
              "      <th>25</th>\n",
              "      <td>388514.000000</td>\n",
              "      <td>7.3</td>\n",
              "    </tr>\n",
              "    <tr>\n",
              "      <th>26</th>\n",
              "      <td>228936.000000</td>\n",
              "      <td>7.6</td>\n",
              "    </tr>\n",
              "    <tr>\n",
              "      <th>27</th>\n",
              "      <td>210991.000000</td>\n",
              "      <td>6.1</td>\n",
              "    </tr>\n",
              "    <tr>\n",
              "      <th>28</th>\n",
              "      <td>232666.000000</td>\n",
              "      <td>5.4</td>\n",
              "    </tr>\n",
              "    <tr>\n",
              "      <th>29</th>\n",
              "      <td>119696.000000</td>\n",
              "      <td>6.2</td>\n",
              "    </tr>\n",
              "    <tr>\n",
              "      <th>30</th>\n",
              "      <td>203044.000000</td>\n",
              "      <td>5.9</td>\n",
              "    </tr>\n",
              "    <tr>\n",
              "      <th>31</th>\n",
              "      <td>373548.000000</td>\n",
              "      <td>6.3</td>\n",
              "    </tr>\n",
              "    <tr>\n",
              "      <th>32</th>\n",
              "      <td>288004.724138</td>\n",
              "      <td>7.3</td>\n",
              "    </tr>\n",
              "    <tr>\n",
              "      <th>33</th>\n",
              "      <td>288004.724138</td>\n",
              "      <td>7.5</td>\n",
              "    </tr>\n",
              "    <tr>\n",
              "      <th>34</th>\n",
              "      <td>288004.724138</td>\n",
              "      <td>5.5</td>\n",
              "    </tr>\n",
              "    <tr>\n",
              "      <th>35</th>\n",
              "      <td>548392.000000</td>\n",
              "      <td>6.8</td>\n",
              "    </tr>\n",
              "    <tr>\n",
              "      <th>36</th>\n",
              "      <td>632100.000000</td>\n",
              "      <td>6.9</td>\n",
              "    </tr>\n",
              "    <tr>\n",
              "      <th>37</th>\n",
              "      <td>408376.000000</td>\n",
              "      <td>6.5</td>\n",
              "    </tr>\n",
              "    <tr>\n",
              "      <th>38</th>\n",
              "      <td>288004.724138</td>\n",
              "      <td>6.4</td>\n",
              "    </tr>\n",
              "    <tr>\n",
              "      <th>39</th>\n",
              "      <td>288004.724138</td>\n",
              "      <td>5.8</td>\n",
              "    </tr>\n",
              "    <tr>\n",
              "      <th>40</th>\n",
              "      <td>288004.724138</td>\n",
              "      <td>4.7</td>\n",
              "    </tr>\n",
              "  </tbody>\n",
              "</table>\n",
              "</div>\n",
              "      <button class=\"colab-df-convert\" onclick=\"convertToInteractive('df-591278d8-47cb-4c82-b964-c441fc8f563d')\"\n",
              "              title=\"Convert this dataframe to an interactive table.\"\n",
              "              style=\"display:none;\">\n",
              "        \n",
              "  <svg xmlns=\"http://www.w3.org/2000/svg\" height=\"24px\"viewBox=\"0 0 24 24\"\n",
              "       width=\"24px\">\n",
              "    <path d=\"M0 0h24v24H0V0z\" fill=\"none\"/>\n",
              "    <path d=\"M18.56 5.44l.94 2.06.94-2.06 2.06-.94-2.06-.94-.94-2.06-.94 2.06-2.06.94zm-11 1L8.5 8.5l.94-2.06 2.06-.94-2.06-.94L8.5 2.5l-.94 2.06-2.06.94zm10 10l.94 2.06.94-2.06 2.06-.94-2.06-.94-.94-2.06-.94 2.06-2.06.94z\"/><path d=\"M17.41 7.96l-1.37-1.37c-.4-.4-.92-.59-1.43-.59-.52 0-1.04.2-1.43.59L10.3 9.45l-7.72 7.72c-.78.78-.78 2.05 0 2.83L4 21.41c.39.39.9.59 1.41.59.51 0 1.02-.2 1.41-.59l7.78-7.78 2.81-2.81c.8-.78.8-2.07 0-2.86zM5.41 20L4 18.59l7.72-7.72 1.47 1.35L5.41 20z\"/>\n",
              "  </svg>\n",
              "      </button>\n",
              "      \n",
              "  <style>\n",
              "    .colab-df-container {\n",
              "      display:flex;\n",
              "      flex-wrap:wrap;\n",
              "      gap: 12px;\n",
              "    }\n",
              "\n",
              "    .colab-df-convert {\n",
              "      background-color: #E8F0FE;\n",
              "      border: none;\n",
              "      border-radius: 50%;\n",
              "      cursor: pointer;\n",
              "      display: none;\n",
              "      fill: #1967D2;\n",
              "      height: 32px;\n",
              "      padding: 0 0 0 0;\n",
              "      width: 32px;\n",
              "    }\n",
              "\n",
              "    .colab-df-convert:hover {\n",
              "      background-color: #E2EBFA;\n",
              "      box-shadow: 0px 1px 2px rgba(60, 64, 67, 0.3), 0px 1px 3px 1px rgba(60, 64, 67, 0.15);\n",
              "      fill: #174EA6;\n",
              "    }\n",
              "\n",
              "    [theme=dark] .colab-df-convert {\n",
              "      background-color: #3B4455;\n",
              "      fill: #D2E3FC;\n",
              "    }\n",
              "\n",
              "    [theme=dark] .colab-df-convert:hover {\n",
              "      background-color: #434B5C;\n",
              "      box-shadow: 0px 1px 3px 1px rgba(0, 0, 0, 0.15);\n",
              "      filter: drop-shadow(0px 1px 2px rgba(0, 0, 0, 0.3));\n",
              "      fill: #FFFFFF;\n",
              "    }\n",
              "  </style>\n",
              "\n",
              "      <script>\n",
              "        const buttonEl =\n",
              "          document.querySelector('#df-591278d8-47cb-4c82-b964-c441fc8f563d button.colab-df-convert');\n",
              "        buttonEl.style.display =\n",
              "          google.colab.kernel.accessAllowed ? 'block' : 'none';\n",
              "\n",
              "        async function convertToInteractive(key) {\n",
              "          const element = document.querySelector('#df-591278d8-47cb-4c82-b964-c441fc8f563d');\n",
              "          const dataTable =\n",
              "            await google.colab.kernel.invokeFunction('convertToInteractive',\n",
              "                                                     [key], {});\n",
              "          if (!dataTable) return;\n",
              "\n",
              "          const docLinkHtml = 'Like what you see? Visit the ' +\n",
              "            '<a target=\"_blank\" href=https://colab.research.google.com/notebooks/data_table.ipynb>data table notebook</a>'\n",
              "            + ' to learn more about interactive tables.';\n",
              "          element.innerHTML = '';\n",
              "          dataTable['output_type'] = 'display_data';\n",
              "          await google.colab.output.renderOutput(dataTable, element);\n",
              "          const docLink = document.createElement('div');\n",
              "          docLink.innerHTML = docLinkHtml;\n",
              "          element.appendChild(docLink);\n",
              "        }\n",
              "      </script>\n",
              "    </div>\n",
              "  </div>\n",
              "  "
            ],
            "text/plain": [
              "           Income  LifeSatisfaction\n",
              "0   427064.000000               7.3\n",
              "1   308325.000000               7.1\n",
              "2   386006.000000               6.9\n",
              "3   423849.000000               7.4\n",
              "4   100967.000000               6.5\n",
              "5   288004.724138               6.3\n",
              "6   288004.724138               6.7\n",
              "7   118637.000000               7.6\n",
              "8   159373.000000               5.7\n",
              "9   200827.000000               7.6\n",
              "10  280653.000000               6.5\n",
              "11  259667.000000               7.0\n",
              "12  150134.000000               5.4\n",
              "13  104458.000000               5.6\n",
              "14  288004.724138               7.5\n",
              "15  217130.000000               7.0\n",
              "16  288004.724138               7.2\n",
              "17  279889.000000               6.0\n",
              "18  305878.000000               5.9\n",
              "19  285980.000000               5.9\n",
              "20   70160.000000               5.9\n",
              "21  288004.724138               5.9\n",
              "22  769053.000000               6.9\n",
              "23  288004.724138               6.5\n",
              "24  157824.000000               7.4\n",
              "25  388514.000000               7.3\n",
              "26  228936.000000               7.6\n",
              "27  210991.000000               6.1\n",
              "28  232666.000000               5.4\n",
              "29  119696.000000               6.2\n",
              "30  203044.000000               5.9\n",
              "31  373548.000000               6.3\n",
              "32  288004.724138               7.3\n",
              "33  288004.724138               7.5\n",
              "34  288004.724138               5.5\n",
              "35  548392.000000               6.8\n",
              "36  632100.000000               6.9\n",
              "37  408376.000000               6.5\n",
              "38  288004.724138               6.4\n",
              "39  288004.724138               5.8\n",
              "40  288004.724138               4.7"
            ]
          },
          "metadata": {},
          "execution_count": 126
        }
      ]
    },
    {
      "cell_type": "markdown",
      "source": [
        "Using LinearRegression from sklearn to obtain the regression line and r_squared value"
      ],
      "metadata": {
        "id": "-_pYt6EOwRPi"
      }
    },
    {
      "cell_type": "code",
      "source": [
        "#Assign variables to Income and LifeSatisfaction columns\n",
        "x=df[[\"Income\"]]\n",
        "y=df[[\"LifeSatisfaction\"]]"
      ],
      "metadata": {
        "id": "qSebzRHkRf3c"
      },
      "execution_count": 128,
      "outputs": []
    },
    {
      "cell_type": "code",
      "source": [
        "#Develop a linear regression model. We have named this model as \"model\"\n",
        "model= LinearRegression()\n",
        "model.fit(x,y) #Fit the model to our data"
      ],
      "metadata": {
        "colab": {
          "base_uri": "https://localhost:8080/"
        },
        "id": "Wyj0bR50d7pa",
        "outputId": "5d70ae33-4365-4eae-c05f-6939b31f089f"
      },
      "execution_count": 130,
      "outputs": [
        {
          "output_type": "execute_result",
          "data": {
            "text/plain": [
              "LinearRegression()"
            ]
          },
          "metadata": {},
          "execution_count": 130
        }
      ]
    },
    {
      "cell_type": "code",
      "source": [
        "#Obtain the r_squared value\n",
        "print(\"r_squared value is \", model.score(x,y))"
      ],
      "metadata": {
        "colab": {
          "base_uri": "https://localhost:8080/"
        },
        "id": "xOaLDkO8eJA4",
        "outputId": "3625bf25-a6cb-4822-bb05-7a90d6ed5256"
      },
      "execution_count": 131,
      "outputs": [
        {
          "output_type": "stream",
          "name": "stdout",
          "text": [
            "r_squared value is  0.057582775796690466\n"
          ]
        }
      ]
    },
    {
      "cell_type": "code",
      "source": [
        "#Obtain the intercept and the coefficient\n",
        "b0= model.intercept_\n",
        "b1= model.coef_\n",
        "print(\" Equation of the regression line is y_est= {} + {}*x\".format(b0,b1))"
      ],
      "metadata": {
        "colab": {
          "base_uri": "https://localhost:8080/"
        },
        "id": "9En60LExtww8",
        "outputId": "dad6f4ed-c0ad-49f2-99c3-d36d1f743fe9"
      },
      "execution_count": 134,
      "outputs": [
        {
          "output_type": "stream",
          "name": "stdout",
          "text": [
            " Equation of the regression line is y_est= [6.16085137] + [[1.29614185e-06]]*x\n"
          ]
        }
      ]
    },
    {
      "cell_type": "code",
      "source": [
        "#Obtain the estimated value of y using the regression model\n",
        "yEst= model.predict(x)"
      ],
      "metadata": {
        "id": "r3BmPnj1a_uu"
      },
      "execution_count": 135,
      "outputs": []
    },
    {
      "cell_type": "code",
      "source": [
        "#Plot the actual data x vs y using scatter plot\n",
        "#Plot the prediction line using x, yEst value\n",
        "plt.scatter(x,y)\n",
        "plt.plot(x,yEst,\"r\")\n",
        "plt.xlabel(\"House hold income\")\n",
        "plt.ylabel(\"Life satisfaction value\")"
      ],
      "metadata": {
        "colab": {
          "base_uri": "https://localhost:8080/",
          "height": 296
        },
        "id": "mU8fPrTsjyrL",
        "outputId": "3af95fd7-cc29-444c-9c12-4cb8ae2bbafc"
      },
      "execution_count": 137,
      "outputs": [
        {
          "output_type": "execute_result",
          "data": {
            "text/plain": [
              "Text(0, 0.5, 'Life satisfaction value')"
            ]
          },
          "metadata": {},
          "execution_count": 137
        },
        {
          "output_type": "display_data",
          "data": {
            "image/png": "[encoded data removed]",
            "text/plain": [
              "<Figure size 432x288 with 1 Axes>"
            ]
          },
          "metadata": {
            "needs_background": "light"
          }
        }
      ]
    },
    {
      "cell_type": "markdown",
      "source": [
        "Using statsmodels module\n",
        "\n",
        "REF: \n",
        "\n",
        "https://www.statsmodels.org/stable/index.html\n",
        "\n",
        "https://mode.com/python-tutorial/libraries/statsmodels/"
      ],
      "metadata": {
        "id": "sdBMz3cPwccw"
      }
    },
    {
      "cell_type": "code",
      "source": [
        "x = sm.add_constant(x) #This is the intercept that has to be added to create the model"
      ],
      "metadata": {
        "id": "Puz-16suvIiy"
      },
      "execution_count": 146,
      "outputs": []
    },
    {
      "cell_type": "code",
      "source": [
        "modelNew = sm.OLS(y, x) # create the model\n",
        "fitted = modelNew.fit() #fit the model"
      ],
      "metadata": {
        "id": "932dnCQovMPC"
      },
      "execution_count": 147,
      "outputs": []
    },
    {
      "cell_type": "code",
      "source": [
        "fitted.summary() #Obtain the results of regression"
      ],
      "metadata": {
        "colab": {
          "base_uri": "https://localhost:8080/",
          "height": 478
        },
        "id": "i404EBhTv4Bc",
        "outputId": "df5d8df5-4397-4dd6-9749-c808570e171a"
      },
      "execution_count": 148,
      "outputs": [
        {
          "output_type": "execute_result",
          "data": {
            "text/html": [
              "<table class=\"simpletable\">\n",
              "<caption>OLS Regression Results</caption>\n",
              "<tr>\n",
              "  <th>Dep. Variable:</th>    <td>LifeSatisfaction</td> <th>  R-squared:         </th> <td>   0.058</td>\n",
              "</tr>\n",
              "<tr>\n",
              "  <th>Model:</th>                   <td>OLS</td>       <th>  Adj. R-squared:    </th> <td>   0.033</td>\n",
              "</tr>\n",
              "<tr>\n",
              "  <th>Method:</th>             <td>Least Squares</td>  <th>  F-statistic:       </th> <td>   2.383</td>\n",
              "</tr>\n",
              "<tr>\n",
              "  <th>Date:</th>             <td>Thu, 23 Dec 2021</td> <th>  Prob (F-statistic):</th>  <td> 0.131</td> \n",
              "</tr>\n",
              "<tr>\n",
              "  <th>Time:</th>                 <td>05:34:32</td>     <th>  Log-Likelihood:    </th> <td> -44.266</td>\n",
              "</tr>\n",
              "<tr>\n",
              "  <th>No. Observations:</th>      <td>    41</td>      <th>  AIC:               </th> <td>   92.53</td>\n",
              "</tr>\n",
              "<tr>\n",
              "  <th>Df Residuals:</th>          <td>    39</td>      <th>  BIC:               </th> <td>   95.96</td>\n",
              "</tr>\n",
              "<tr>\n",
              "  <th>Df Model:</th>              <td>     1</td>      <th>                     </th>     <td> </td>   \n",
              "</tr>\n",
              "<tr>\n",
              "  <th>Covariance Type:</th>      <td>nonrobust</td>    <th>                     </th>     <td> </td>   \n",
              "</tr>\n",
              "</table>\n",
              "<table class=\"simpletable\">\n",
              "<tr>\n",
              "     <td></td>       <th>coef</th>     <th>std err</th>      <th>t</th>      <th>P>|t|</th>  <th>[0.025</th>    <th>0.975]</th>  \n",
              "</tr>\n",
              "<tr>\n",
              "  <th>const</th>  <td>    6.1609</td> <td>    0.267</td> <td>   23.042</td> <td> 0.000</td> <td>    5.620</td> <td>    6.702</td>\n",
              "</tr>\n",
              "<tr>\n",
              "  <th>Income</th> <td> 1.296e-06</td> <td>  8.4e-07</td> <td>    1.544</td> <td> 0.131</td> <td>-4.02e-07</td> <td> 2.99e-06</td>\n",
              "</tr>\n",
              "</table>\n",
              "<table class=\"simpletable\">\n",
              "<tr>\n",
              "  <th>Omnibus:</th>       <td> 0.276</td> <th>  Durbin-Watson:     </th> <td>   1.498</td>\n",
              "</tr>\n",
              "<tr>\n",
              "  <th>Prob(Omnibus):</th> <td> 0.871</td> <th>  Jarque-Bera (JB):  </th> <td>   0.465</td>\n",
              "</tr>\n",
              "<tr>\n",
              "  <th>Skew:</th>          <td>-0.097</td> <th>  Prob(JB):          </th> <td>   0.792</td>\n",
              "</tr>\n",
              "<tr>\n",
              "  <th>Kurtosis:</th>      <td> 2.516</td> <th>  Cond. No.          </th> <td>7.46e+05</td>\n",
              "</tr>\n",
              "</table><br/><br/>Warnings:<br/>[1] Standard Errors assume that the covariance matrix of the errors is correctly specified.<br/>[2] The condition number is large, 7.46e+05. This might indicate that there are<br/>strong multicollinearity or other numerical problems."
            ],
            "text/plain": [
              "<class 'statsmodels.iolib.summary.Summary'>\n",
              "\"\"\"\n",
              "                            OLS Regression Results                            \n",
              "==============================================================================\n",
              "Dep. Variable:       LifeSatisfaction   R-squared:                       0.058\n",
              "Model:                            OLS   Adj. R-squared:                  0.033\n",
              "Method:                 Least Squares   F-statistic:                     2.383\n",
              "Date:                Thu, 23 Dec 2021   Prob (F-statistic):              0.131\n",
              "Time:                        05:34:32   Log-Likelihood:                -44.266\n",
              "No. Observations:                  41   AIC:                             92.53\n",
              "Df Residuals:                      39   BIC:                             95.96\n",
              "Df Model:                           1                                         \n",
              "Covariance Type:            nonrobust                                         \n",
              "==============================================================================\n",
              "                 coef    std err          t      P>|t|      [0.025      0.975]\n",
              "------------------------------------------------------------------------------\n",
              "const          6.1609      0.267     23.042      0.000       5.620       6.702\n",
              "Income      1.296e-06    8.4e-07      1.544      0.131   -4.02e-07    2.99e-06\n",
              "==============================================================================\n",
              "Omnibus:                        0.276   Durbin-Watson:                   1.498\n",
              "Prob(Omnibus):                  0.871   Jarque-Bera (JB):                0.465\n",
              "Skew:                          -0.097   Prob(JB):                        0.792\n",
              "Kurtosis:                       2.516   Cond. No.                     7.46e+05\n",
              "==============================================================================\n",
              "\n",
              "Warnings:\n",
              "[1] Standard Errors assume that the covariance matrix of the errors is correctly specified.\n",
              "[2] The condition number is large, 7.46e+05. This might indicate that there are\n",
              "strong multicollinearity or other numerical problems.\n",
              "\"\"\""
            ]
          },
          "metadata": {},
          "execution_count": 148
        }
      ]
    },
    {
      "cell_type": "code",
      "source": [
        "fitted.ssr #Method to obtain SSR"
      ],
      "metadata": {
        "colab": {
          "base_uri": "https://localhost:8080/"
        },
        "id": "_F4ze2EfwDB9",
        "outputId": "bc1a6c18-4043-4676-dea4-d88c6b0289f3"
      },
      "execution_count": 152,
      "outputs": [
        {
          "output_type": "execute_result",
          "data": {
            "text/plain": [
              "20.801216858903086"
            ]
          },
          "metadata": {},
          "execution_count": 152
        }
      ]
    },
    {
      "cell_type": "markdown",
      "source": [
        "To find SSE, SSR and SST"
      ],
      "metadata": {
        "id": "J6V77mBW0vMD"
      }
    },
    {
      "cell_type": "code",
      "source": [
        "#calculate sse\n",
        "sse = np.sum((fitted.fittedvalues - df.LifeSatisfaction)**2)\n",
        "print(\"SSE =\", sse)\n",
        "\n",
        "\n",
        "#calculate ssr\n",
        "ssr = np.sum((fitted.fittedvalues - df.LifeSatisfaction.mean())**2)\n",
        "print(\"SSR = \", ssr)\n",
        "\n",
        "\n",
        "\n",
        "#calculate sst\n",
        "sst = ssr + sse\n",
        "print(\"SST = \", sst)"
      ],
      "metadata": {
        "colab": {
          "base_uri": "https://localhost:8080/"
        },
        "id": "sUXTBnMYzPv4",
        "outputId": "ac3e0177-1c0b-46b9-9499-9003477a8a1d"
      },
      "execution_count": 157,
      "outputs": [
        {
          "output_type": "stream",
          "name": "stdout",
          "text": [
            "SSE = 20.801216858903086\n",
            "SSR =  1.270978263048116\n",
            "SST =  22.0721951219512\n"
          ]
        }
      ]
    },
    {
      "cell_type": "code",
      "source": [
        ""
      ],
      "metadata": {
        "id": "SMCDbg-z0_As"
      },
      "execution_count": null,
      "outputs": []
    }
  ]
}